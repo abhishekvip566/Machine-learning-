{
 "cells": [
  {
   "cell_type": "markdown",
   "id": "948a27e9-7e89-47c7-8f54-fffe0508a80f",
   "metadata": {},
   "source": [
    "ENSEMBLE LEARNING ASSIGNMENT QUESTIONS :"
   ]
  },
  {
   "cell_type": "markdown",
   "id": "f6d4b0fa-59d1-4ee7-8293-0c1a91c9334b",
   "metadata": {},
   "source": [
    "THEORATICAL "
   ]
  },
  {
   "cell_type": "markdown",
   "id": "14d5196a-de8e-41fc-bb04-601d56ba690c",
   "metadata": {},
   "source": [
    "QUESTION 1. Can we use Bagging for regression problems ?"
   ]
  },
  {
   "cell_type": "markdown",
   "id": "c09f762e-824f-4aea-b48a-36e494a0cf4d",
   "metadata": {},
   "source": [
    "Bagging (Bootstrap Aggregating) is a powerful ensemble learning technique that works well for regression problems. The idea behind bagging is to train multiple models on different subsets of the training data (sampled with replacement) and then average their predictions to improve accuracy and reduce variance."
   ]
  },
  {
   "cell_type": "markdown",
   "id": "31740968-68f4-46ca-bc61-a861544f7ce8",
   "metadata": {},
   "source": [
    "QUESTION 2. What is the difference between multiple model training and single model training ?"
   ]
  },
  {
   "cell_type": "markdown",
   "id": "cf2bcca8-ff61-46b0-84bd-eef956a6413c",
   "metadata": {},
   "source": [
    "The main difference between single model training and multiple model training lies in how the learning process is structured and the ultimate goal of training.\n",
    "\n",
    "Single Model Training:\n",
    "\n",
    "In single model training, one algorithm is trained on the entire dataset.\n",
    "\n",
    "The model learns patterns from data and makes predictions on its own.\n",
    "\n",
    "Multiple Model Training (Ensemble Learning):\n",
    "\n",
    "Multiple models are trained, either using the same algorithm with different subsets of the data or different algorithms altogether.\n",
    "\n",
    "These models then work together to produce a final prediction, which is usually aggregated using voting (classification) or averaging (regression).\n"
   ]
  },
  {
   "cell_type": "markdown",
   "id": "be5b8425-0a0c-4f26-9e23-a4eb286f5675",
   "metadata": {},
   "source": [
    "QUESTION 3.  Explain the concept of feature randomness in Random Forest ?"
   ]
  },
  {
   "cell_type": "markdown",
   "id": "375fa1fa-df14-489f-af1e-eca9886b40c1",
   "metadata": {},
   "source": [
    "Feature randomness, also known as feature bagging, is a key concept in Random Forest that helps make the model more diverse and robust.\n",
    "\n",
    "\n",
    "How Feature Randomness Works:\n",
    "\n",
    "In traditional decision trees, each split is made by considering all available features and selecting the best one. However, Random Forest introduces randomness by:\n",
    "\n",
    "1. Selecting a random subset of features at each split instead of considering all features.\n",
    "\n",
    "2. Building multiple decision trees with different feature subsets.\n",
    "\n",
    "3. Averaging predictions (for regression) or using majority voting (for classification) to generate the final output."
   ]
  },
  {
   "cell_type": "markdown",
   "id": "d1a083cc-b9c1-4dcc-b9e4-b942e6579d7b",
   "metadata": {},
   "source": [
    "QUESTION 4.  What is OOB (Out-of-Bag) Score ?"
   ]
  },
  {
   "cell_type": "markdown",
   "id": "7109c308-2e00-4bd5-866f-80100b6ddacf",
   "metadata": {},
   "source": [
    "The Out-of-Bag (OOB) Score is an internal validation metric used in Random Forest to estimate its performance without needing a separate validation set. It leverages the fact that Random Forest uses bootstrap sampling to train individual decision trees."
   ]
  },
  {
   "cell_type": "markdown",
   "id": "406d6c31-8662-40b9-99b0-425eefa5d46b",
   "metadata": {},
   "source": [
    "QUESTION 5.  How can you measure the importance of features in a Random Forest model ?"
   ]
  },
  {
   "cell_type": "markdown",
   "id": "a066b7f6-b562-4852-a085-0595b31ab707",
   "metadata": {},
   "source": [
    "Feature importance in a Random Forest model can be measured using several techniques. The main idea is to assess how much each feature contributes to the predictive power of the model. Here are the key approaches:\n",
    "\n",
    "1. Mean Decrease in Impurity (Gini Importance)\n",
    "   \n",
    "Random Forest uses decision trees, and each tree splits based on feature thresholds.\n",
    "\n",
    "The amount of decrease in impurity (such as Gini Index for classification or variance for regression) caused by a feature at each split is recorded.\n",
    "\n",
    "2. Permutation Importance (Model-Agnostic)\n",
    "   \n",
    "After training the model, randomly shuffle the values of a single feature and observe the drop in performance.\n",
    "\n",
    "If shuffling a feature leads to a large reduction in accuracy, it means the feature was important."
   ]
  },
  {
   "cell_type": "markdown",
   "id": "42d847fe-a98c-4c29-a3b7-8114a59974e5",
   "metadata": {},
   "source": [
    "QUESTION 6.  Explain the working principle of a Bagging Classifier "
   ]
  },
  {
   "cell_type": "markdown",
   "id": "52916e6a-7dfe-4578-a7ab-f50b76c0e2a2",
   "metadata": {},
   "source": [
    "A Bagging Classifier is an ensemble learning technique that enhances prediction accuracy by combining multiple models trained on different subsets of the dataset. Here's how it works:\n",
    "\n",
    "\n",
    "Working Principle of Bagging Classifier\n",
    "\n",
    "1. Bootstrap Sampling: Multiple subsets of the original dataset are created through random sampling with replacement (bootstrapping). Each subset may contain some repeated samples.\n",
    "\n",
    "2. Individual Model Training: A separate classifier is trained on each subset independently. These models can be decision trees, support vector machines, or any other base estimator.\n",
    "\n",
    "3. Parallel Execution: Since each model is trained separately, bagging allows parallel training, making it computationally efficient."
   ]
  },
  {
   "cell_type": "markdown",
   "id": "57d15aa0-4c49-4604-bc52-bbbbb4d375e8",
   "metadata": {},
   "source": [
    "QUESTION 7. How do you evaluate a Bagging Classifier’s performance ?"
   ]
  },
  {
   "cell_type": "markdown",
   "id": "7d9dd9cc-1b8f-41f6-b0d1-9112267a4144",
   "metadata": {},
   "source": [
    "Bagging Classifier's performance follows similar principles as assessing any machine learning model, but with a focus on ensemble effectiveness. Here are the key methods:\n",
    "\n",
    "\n",
    "1. Accuracy Metrics\n",
    "For classification tasks:\n",
    "\n",
    "Accuracy: Measures the percentage of correctly predicted labels.\n",
    "\n",
    "Precision, Recall, and F1-Score: Important for imbalanced datasets, helping assess model quality beyond accuracy.\n",
    "\n",
    "ROC-AUC Score: Evaluates how well the classifier distinguishes between classes, especially useful for binary classification.\n",
    "\n",
    "2. Cross-Validation\n",
    "   \n",
    "K-Fold Cross-Validation: Splits the dataset into multiple subsets to ensure the model generalizes well.\n",
    "\n",
    "Out-of-Bag (OOB) Score: Exclusive to Bagging models, it estimates accuracy using bootstrap sampling without needing a separate validation set.\n",
    "\n",
    "3. Confusion Matrix\n",
    "   \n",
    "Helps visualize the types of errors the model makes.\n",
    "\n",
    "Shows True Positives, False Positives, True Negatives, and False Negatives."
   ]
  },
  {
   "cell_type": "markdown",
   "id": "99b3a4fc-4bf1-4519-9680-f941143a0bc1",
   "metadata": {},
   "source": [
    "QUESTION 8.  How does a Bagging Regressor work ?"
   ]
  },
  {
   "cell_type": "markdown",
   "id": "9dc2ebf1-fd4f-434f-b0aa-a3a8ee1fe082",
   "metadata": {},
   "source": [
    "A Bagging Regressor works by combining multiple instances of the same regression model to improve stability and accuracy while reducing variance. It follows the Bagging (Bootstrap Aggregating) technique, which is highly effective for high-variance models like decision trees.\n",
    "\n",
    "\n",
    "Working Principle of Bagging Regressor\n",
    "\n",
    "1. Bootstrap Sampling: Multiple random subsets of the training data are created through sampling with replacement (bootstrapping).\n",
    "\n",
    "2. Independent Model Training: Each subset is used to train a separate regression model. These models could be Decision Trees, Linear Regression, Support Vector Regression (SVR), etc.\n",
    "\n",
    "3. Parallel Execution: Since each model is trained independently, bagging can take advantage of parallel processing for faster training."
   ]
  },
  {
   "cell_type": "markdown",
   "id": "f547c119-5602-4b21-8d6a-a73e23ad46e7",
   "metadata": {},
   "source": [
    "QUESTION 9.  What is the main advantage of ensemble techniques ?"
   ]
  },
  {
   "cell_type": "markdown",
   "id": "dd15eab9-977e-453d-ae5c-1cf92266dfa7",
   "metadata": {},
   "source": [
    "The main advantage of ensemble techniques is their ability to improve the accuracy, stability, and generalization of machine learning models. By combining multiple models, ensembles reduce errors and make predictions more reliable.\n",
    "\n",
    "\n",
    "Key Benefits of Ensemble Techniques:\n",
    "\n",
    "Better Accuracy: Aggregating multiple models enhances predictive performance compared to a single model. \n",
    "\n",
    "\n",
    "Reduced Overfitting: Techniques like bagging help decrease variance, preventing models from memorizing training data."
   ]
  },
  {
   "cell_type": "markdown",
   "id": "d8435d7e-89f6-489e-b388-0d8ee38ee8a2",
   "metadata": {},
   "source": [
    "QUESTION 10. What is the main challenge of ensemble methods ?"
   ]
  },
  {
   "cell_type": "markdown",
   "id": "22387fda-6872-412e-8025-376dd5ad6894",
   "metadata": {},
   "source": [
    "Ensemble methods offer significant advantages, but they also come with key challenges that need to be managed. Here are the main difficulties:\n",
    "\n",
    "\n",
    "1. Computational Complexity\n",
    "\n",
    "Training multiple models requires more computing power and memory.\n",
    "\n",
    "Methods like Boosting and Stacking can be particularly slow since models depend on one another.\n",
    "\n",
    "2. Interpretability\n",
    "\n",
    "Unlike simpler models, ensembles can be hard to understand and interpret.\n",
    "\n",
    "Extracting meaningful insights from models like Random Forest or Gradient Boosting requires advanced techniques like SHAP values."
   ]
  },
  {
   "cell_type": "markdown",
   "id": "9c1b8553-c513-4211-ae4c-689629ed9a5f",
   "metadata": {},
   "source": [
    "3. Risk of Overfitting\n",
    "\n",
    "Some ensembles, especially Boosting, might focus too much on specific patterns in data, leading to poor generalization.\n",
    "\n",
    "Proper tuning of hyperparameters is required to avoid this issue."
   ]
  },
  {
   "cell_type": "markdown",
   "id": "d9d05298-506f-4c9d-9ce9-a21987c46ae1",
   "metadata": {},
   "source": [
    "QUESTION 11.  Explain the key idea behind ensemble techniques."
   ]
  },
  {
   "cell_type": "markdown",
   "id": "9ead536b-821a-4b7a-a3b9-d834887682b8",
   "metadata": {},
   "source": [
    "The key idea behind ensemble techniques is to combine multiple models to improve accuracy, stability, and generalization while reducing errors. Instead of relying on a single model, ensembles aggregate the predictions of multiple models to create a more robust solution.\n",
    "\n",
    "\n",
    "Why Ensemble Techniques Work\n",
    "\n",
    "\n",
    "Diversity Improves Predictions: Individual models may make different mistakes, but when combined, they average out errors.\n",
    "\n",
    "Reduces Overfitting & Variance: Bagging (like Random Forest) prevents high variance models from overfitting, while Boosting (like AdaBoost) corrects errors iteratively.\n",
    "\n",
    "Balances Bias-Variance Tradeoff: A well-constructed ensemble often achieves better generalization on unseen data."
   ]
  },
  {
   "cell_type": "markdown",
   "id": "db52a345-2f44-4025-963e-403bca91b477",
   "metadata": {},
   "source": [
    "QUESTION 12. What is a Random Forest Classifier ?"
   ]
  },
  {
   "cell_type": "markdown",
   "id": "48536cb8-1c66-4bca-af14-573c12246043",
   "metadata": {},
   "source": [
    "A Random Forest Classifier is an ensemble learning algorithm that combines multiple decision trees to improve accuracy, stability, and robustness in classification tasks. It’s one of the most widely used machine learning algorithms due to its effectiveness in handling complex datasets."
   ]
  },
  {
   "cell_type": "markdown",
   "id": "a1034708-b83a-4538-9075-886b1ef8a75c",
   "metadata": {},
   "source": [
    "QUESTION 13. What are the main types of ensemble techniques?"
   ]
  },
  {
   "cell_type": "markdown",
   "id": "a0c674b4-d9e7-47b7-9817-c019d8eb7dcb",
   "metadata": {},
   "source": [
    "Ensemble techniques are powerful methods that combine multiple models to enhance accuracy, reduce errors, and improve generalization. The main types of ensemble techniques include:\n",
    "\n",
    "\n",
    "1. Bagging (Bootstrap Aggregating)\n",
    "Creates multiple models by training them on random subsets of data.\n",
    "\n",
    "2. Boosting\n",
    "Models are trained sequentially, correcting errors from previous models.\n",
    "\n",
    "3. Stacking (Stacked Generalization)\n",
    "Different base models (like logistic regression, decision trees, and neural networks) are trained separately.\n",
    "\n",
    "4. Voting & Averaging\n",
    "A simple ensemble method where multiple models' outputs are combined."
   ]
  },
  {
   "cell_type": "markdown",
   "id": "5110d7e0-ea13-4fab-bac7-aa3459390934",
   "metadata": {},
   "source": [
    "QUESTION 14.  What is ensemble learning in machine learning ?"
   ]
  },
  {
   "cell_type": "markdown",
   "id": "a596127a-f8aa-4516-8235-ca587e459126",
   "metadata": {},
   "source": [
    "Ensemble learning is a technique in machine learning where multiple models (often referred to as \"weak learners\") are combined to create a more powerful and accurate prediction model. The idea is that by aggregating the outputs of multiple models, ensemble learning reduces errors, enhances stability, and improves generalization to unseen data."
   ]
  },
  {
   "cell_type": "markdown",
   "id": "c5f1ee59-9eef-4d0e-bb38-9e3705cbe790",
   "metadata": {},
   "source": [
    "QUESTION 15. When should we avoid using ensemble methods ?"
   ]
  },
  {
   "cell_type": "markdown",
   "id": "124a9adf-a621-420e-a6f0-883ea191da55",
   "metadata": {},
   "source": [
    "While ensemble methods are highly effective, there are situations where they may not be the best choice. Here are some cases where you might want to avoid using ensemble techniques:\n",
    "\n",
    "1. When Interpretability is Crucial\n",
    "\n",
    "Ensembles like Random Forest and Gradient Boosting can be complex and difficult to interpret.\n",
    "\n",
    "In sensitive domains like healthcare and finance, simple models such as linear regression or decision trees may be preferable for transparency.\n",
    "\n",
    "2. When Computational Resources are Limited\n",
    "\n",
    "   Training multiple models requires more time and memory.\n",
    "\n",
    "If working with large datasets or real-time applications, simpler models might be more efficient.\n",
    "\n",
    "3. When a Single Model Performs Well Enough\n",
    "\n",
    "   \n",
    "If a well-tuned decision tree, SVM, or neural network already provides high accuracy, adding an ensemble may have diminishing returns.\n",
    "\n",
    "Simpler models can often deliver comparable performance without extra complexity."
   ]
  },
  {
   "cell_type": "markdown",
   "id": "459b7e20-3ef5-4796-85b4-1722ce18a56f",
   "metadata": {},
   "source": [
    "QUESTION 16. How does Bagging help in reducing overfitting ?"
   ]
  },
  {
   "cell_type": "markdown",
   "id": "1796e48f-eaa8-413e-a447-bfc7d1d9e677",
   "metadata": {},
   "source": [
    "Bagging (Bootstrap Aggregating) is a powerful ensemble technique that helps reduce overfitting, particularly in high-variance models like decision trees. Here's how it works:\n",
    "\n",
    "How Bagging Reduces Overfitting\n",
    "\n",
    "1. Random Subsets of Data (Bootstrap Sampling)\n",
    "\n",
    "Bagging creates multiple versions of the dataset by randomly sampling with replacement.\n",
    "\n",
    "Each model sees slightly different data distributions, preventing it from memorizing specific patterns.\n",
    "\n",
    "2. Independent Model Training\n",
    "   \n",
    "Each subset is used to train a separate model (often decision trees).\n",
    "\n",
    "Since models learn independently, they won't all make the same mistakes.\n",
    "\n",
    "3. Averaging Predictions (for Regression) & Voting (for Classification)\n",
    "\n",
    "Instead of relying on a single model, bagging aggregates the predictions of multiple models.\n",
    "\n",
    "Averaging predictions in regression smooths out extreme values, reducing variance.\n",
    "\n",
    "Majority voting in classification ensures individual errors don’t dominate."
   ]
  },
  {
   "cell_type": "markdown",
   "id": "629b566e-5fc0-40f3-81eb-114da96a55e5",
   "metadata": {},
   "source": [
    "QUESTION 17. Why is Random Forest better than a single Decision Tree ?"
   ]
  },
  {
   "cell_type": "markdown",
   "id": "3381969f-69d8-4eea-9186-ffd7b1983365",
   "metadata": {},
   "source": [
    "Random Forest outperforms a single Decision Tree in most scenarios due to its ensemble approach. Here’s why:\n",
    "\n",
    "\n",
    "1. Reduces Overfitting (Higher Generalization)\n",
    "A single decision tree tends to overfit, meaning it memorizes training data too well and struggles with new data.\n",
    "\n",
    "Random Forest trains multiple trees on different subsets of data and averages their predictions, reducing variance and improving generalization.\n",
    "\n",
    "2. More Robust Predictions\n",
    "   \n",
    "Decision trees are sensitive to small changes in data—altering the dataset slightly can lead to completely different splits.\n",
    "\n",
    "Random Forest averages multiple trees, making predictions more stable and reliable.\n",
    "\n",
    "3. Handles Noisy Data Better\n",
    "   \n",
    "A single tree can become biased if the training data contains noise or outliers.\n",
    "\n",
    "Random Forest smooths out noisy patterns by considering multiple perspectives across different trees."
   ]
  },
  {
   "cell_type": "markdown",
   "id": "038188e8-6ea8-402f-9700-405021b6fe93",
   "metadata": {},
   "source": [
    "QUESTION 18.  What is the role of bootstrap sampling in Bagging ?"
   ]
  },
  {
   "cell_type": "markdown",
   "id": "c3468f39-4e69-4492-ae36-08008287541b",
   "metadata": {},
   "source": [
    "Bootstrap sampling is the foundation of Bagging (Bootstrap Aggregating) and plays a crucial role in making the model more robust and reducing overfitting. Here's how it works and why it's important:\n",
    "\n",
    "\n",
    "Role of Bootstrap Sampling in Bagging\n",
    "\n",
    "1.Creates Diverse Training Sets\n",
    "\n",
    "Instead of training all models on the same dataset, Bagging creates multiple random subsets by sampling with replacement.\n",
    "\n",
    "Some data points may appear multiple times, while others may be left out.\n",
    "\n",
    "This ensures each model sees a different version of the dataset.\n",
    "\n",
    "2. Reduces Overfitting\n",
    "\n",
    " Overfitting occurs when a model memorizes patterns that don’t generalize to unseen data.\n",
    "\n",
    "By averaging predictions across multiple independent models, Bagging smooths out extreme variations.\n",
    "\n",
    "3. Improves Model Stability\n",
    "\n",
    "Since each model trains on a slightly different dataset, Bagging reduces sensitivity to noisy or biased data.\n",
    "\n",
    "The combined result is more stable and less prone to errors."
   ]
  },
  {
   "cell_type": "markdown",
   "id": "a21c7bb8-3f21-419c-b32d-ed2edc393224",
   "metadata": {},
   "source": [
    "QUESTION 19. What are some real-world applications of ensemble techniques ?\n"
   ]
  },
  {
   "cell_type": "markdown",
   "id": "2b72085d-b18f-410b-bf99-9513165517a6",
   "metadata": {},
   "source": [
    "Ensemble techniques are widely used in real-world applications because they improve prediction accuracy, reduce variance, and enhance model stability. Here are some practical areas where ensemble learning is effectively applied:\n",
    "\n",
    "\n",
    "1. Healthcare & Medical Diagnosis\n",
    "   \n",
    "Disease Prediction & Diagnosis: Random Forest and Gradient Boosting are used to predict diseases like cancer, diabetes, and heart conditions by combining multiple models.\n",
    "\n",
    "Medical Imaging Analysis: Ensemble techniques help detect abnormalities in X-rays and MRIs by improving classification accuracy.\n",
    "\n",
    "2. Finance & Fraud Detection\n",
    "   \n",
    "Credit Scoring & Risk Assessment: Banks use ensemble models to evaluate loan applicants and assess financial risk.\n",
    "\n",
    "Fraud Detection: Boosting methods like XGBoost and Random Forest analyze transaction patterns to flag potential fraud.\n",
    "\n",
    "3. Marketing & Recommendation Systems\n",
    "   \n",
    "Customer Segmentation: Retail companies use ensemble clustering methods to classify customers based on purchasing behavior.\n",
    "\n",
    "Product Recommendation Engines: Machine learning ensembles, including collaborative filtering and boosting algorithms, power Netflix, Amazon, and Spotify recommendations.\n"
   ]
  },
  {
   "cell_type": "markdown",
   "id": "d5a0d856-a139-4cbf-a2ca-590a6e14a646",
   "metadata": {},
   "source": [
    "QUESTION 20. What is the difference between Bagging and Boosting?"
   ]
  },
  {
   "cell_type": "markdown",
   "id": "5fcd6d20-971b-482d-ae7e-9cf2fc02f9ce",
   "metadata": {},
   "source": [
    "Bagging and Boosting are both ensemble techniques, but they approach model improvement in different ways. Here’s a breakdown of their differences:\n",
    "\n",
    "Bagging (Bootstrap Aggregating)\n",
    "\n",
    "Goal: Reduce variance and prevent overfitting. \n",
    "Working Principle:\n",
    "Trains multiple models independently on randomly sampled subsets of the data.\n",
    "\n",
    "Uses bootstrap sampling (sampling with replacement) to create different training sets.\n",
    "\n",
    "Boosting\n",
    "\n",
    "Goal: Reduce bias by improving weak learners iteratively. \n",
    "Working Principle:\n",
    "\n",
    "Models are trained sequentially, with each model correcting the errors of the previous one.\n",
    "\n",
    "Assigns higher weight to misclassified instances, forcing the model to focus on difficult cases."
   ]
  },
  {
   "cell_type": "markdown",
   "id": "a275ff07-1fa8-4b1e-8428-7efd6fe7aad5",
   "metadata": {},
   "source": [
    "PRACTICAL QUESTION : "
   ]
  },
  {
   "cell_type": "markdown",
   "id": "29ff018a-f9c4-4083-bbbc-84ae9f23d359",
   "metadata": {},
   "source": [
    "QUESTION 21. Train a Bagging Classifier using Decision Trees on a sample dataset and print model accuracy."
   ]
  },
  {
   "cell_type": "code",
   "execution_count": 47,
   "id": "559e86cc-6285-4bd9-b7e3-cddaf439cbae",
   "metadata": {},
   "outputs": [
    {
     "name": "stdout",
     "output_type": "stream",
     "text": [
      "Bagging Classifier Accuracy: 1.00\n"
     ]
    }
   ],
   "source": [
    "from sklearn.ensemble import BaggingClassifier\n",
    "from sklearn.tree import DecisionTreeClassifier\n",
    "from sklearn.model_selection import train_test_split\n",
    "from sklearn.datasets import load_iris\n",
    "from sklearn.metrics import accuracy_score\n",
    "\n",
    "# Load sample dataset\n",
    "iris = load_iris()\n",
    "X, y = iris.data, iris.target\n",
    "\n",
    "# Split dataset into training and testing sets\n",
    "X_train, X_test, y_train, y_test = train_test_split(X, y, test_size=0.2, random_state=42)\n",
    "\n",
    "# Create base classifier (Decision Tree)\n",
    "base_model = DecisionTreeClassifier()\n",
    "\n",
    "# Create Bagging Classifier\n",
    "bagging_model = BaggingClassifier(base_model, n_estimators=10, random_state=42)\n",
    "\n",
    "# Train the model\n",
    "bagging_model.fit(X_train, y_train)\n",
    "\n",
    "# Make predictions\n",
    "y_pred = bagging_model.predict(X_test)\n",
    "\n",
    "# Calculate accuracy\n",
    "accuracy = accuracy_score(y_test, y_pred)\n",
    "print(f\"Bagging Classifier Accuracy: {accuracy:.2f}\")\n"
   ]
  },
  {
   "cell_type": "markdown",
   "id": "2089ed6d-6072-4107-b6a6-bd9c1e9fd413",
   "metadata": {},
   "source": [
    "QUESTION 22. Train a Bagging Regressor using Decision Trees and evaluate using Mean Squared Error (MSE)."
   ]
  },
  {
   "cell_type": "code",
   "execution_count": 50,
   "id": "5fc7318d-538e-4fe7-80ed-699b6f160893",
   "metadata": {},
   "outputs": [
    {
     "name": "stdout",
     "output_type": "stream",
     "text": [
      "Bagging Regressor MSE: 1126.72\n"
     ]
    }
   ],
   "source": [
    "from sklearn.ensemble import BaggingRegressor\n",
    "from sklearn.tree import DecisionTreeRegressor\n",
    "from sklearn.model_selection import train_test_split\n",
    "from sklearn.datasets import make_regression\n",
    "from sklearn.metrics import mean_squared_error\n",
    "\n",
    "# Generate synthetic regression dataset\n",
    "X, y = make_regression(n_samples=500, n_features=5, noise=0.3, random_state=42)\n",
    "\n",
    "# Split dataset into training and testing sets\n",
    "X_train, X_test, y_train, y_test = train_test_split(X, y, test_size=0.2, random_state=42)\n",
    "\n",
    "# Create base regressor (Decision Tree)\n",
    "base_regressor = DecisionTreeRegressor()\n",
    "\n",
    "# Create Bagging Regressor\n",
    "bagging_regressor = BaggingRegressor(base_regressor, n_estimators=10, random_state=42)\n",
    "\n",
    "# Train the model\n",
    "bagging_regressor.fit(X_train, y_train)\n",
    "\n",
    "# Make predictions\n",
    "y_pred = bagging_regressor.predict(X_test)\n",
    "\n",
    "# Evaluate using Mean Squared Error (MSE)\n",
    "mse = mean_squared_error(y_test, y_pred)\n",
    "print(f\"Bagging Regressor MSE: {mse:.2f}\")\n"
   ]
  },
  {
   "cell_type": "markdown",
   "id": "2c31ba82-a2e7-4235-8184-604ec347c52d",
   "metadata": {},
   "source": [
    "QUESTION 23. Train a Random Forest Classifier on the Breast Cancer dataset and print feature importance scores. "
   ]
  },
  {
   "cell_type": "code",
   "execution_count": 53,
   "id": "b1b144ba-1b50-4547-a181-c6a8a968f1d2",
   "metadata": {},
   "outputs": [
    {
     "name": "stdout",
     "output_type": "stream",
     "text": [
      "Random Forest Accuracy: 0.96\n",
      "mean radius: 0.0487\n",
      "mean texture: 0.0136\n",
      "mean perimeter: 0.0533\n",
      "mean area: 0.0476\n",
      "mean smoothness: 0.0073\n",
      "mean compactness: 0.0139\n",
      "mean concavity: 0.0680\n",
      "mean concave points: 0.1062\n",
      "mean symmetry: 0.0038\n",
      "mean fractal dimension: 0.0039\n",
      "radius error: 0.0201\n",
      "texture error: 0.0047\n",
      "perimeter error: 0.0113\n",
      "area error: 0.0224\n",
      "smoothness error: 0.0043\n",
      "compactness error: 0.0053\n",
      "concavity error: 0.0094\n",
      "concave points error: 0.0035\n",
      "symmetry error: 0.0040\n",
      "fractal dimension error: 0.0053\n",
      "worst radius: 0.0780\n",
      "worst texture: 0.0217\n",
      "worst perimeter: 0.0671\n",
      "worst area: 0.1539\n",
      "worst smoothness: 0.0106\n",
      "worst compactness: 0.0203\n",
      "worst concavity: 0.0318\n",
      "worst concave points: 0.1447\n",
      "worst symmetry: 0.0101\n",
      "worst fractal dimension: 0.0052\n"
     ]
    }
   ],
   "source": [
    "from sklearn.ensemble import RandomForestClassifier\n",
    "from sklearn.datasets import load_breast_cancer\n",
    "from sklearn.model_selection import train_test_split\n",
    "from sklearn.metrics import accuracy_score\n",
    "\n",
    "# Load Breast Cancer dataset\n",
    "data = load_breast_cancer()\n",
    "X, y = data.data, data.target\n",
    "feature_names = data.feature_names\n",
    "\n",
    "# Split dataset into training and testing sets\n",
    "X_train, X_test, y_train, y_test = train_test_split(X, y, test_size=0.2, random_state=42)\n",
    "\n",
    "# Create Random Forest Classifier\n",
    "rf_classifier = RandomForestClassifier(n_estimators=100, random_state=42)\n",
    "\n",
    "# Train the model\n",
    "rf_classifier.fit(X_train, y_train)\n",
    "\n",
    "# Make predictions\n",
    "y_pred = rf_classifier.predict(X_test)\n",
    "\n",
    "# Calculate accuracy\n",
    "accuracy = accuracy_score(y_test, y_pred)\n",
    "print(f\"Random Forest Accuracy: {accuracy:.2f}\")\n",
    "\n",
    "# Print feature importance scores\n",
    "importances = rf_classifier.feature_importances_\n",
    "for feature, importance in zip(feature_names, importances):\n",
    "    print(f\"{feature}: {importance:.4f}\")\n"
   ]
  },
  {
   "cell_type": "markdown",
   "id": "014856ea-d434-4246-a1b4-2d690d3ef2c6",
   "metadata": {},
   "source": [
    "QUESTION 24. Train a Random Forest Regressor and compare its performance with a single Decision Tree ?"
   ]
  },
  {
   "cell_type": "code",
   "execution_count": 56,
   "id": "e927b506-a7be-43ad-8d9b-9c753c168dcc",
   "metadata": {},
   "outputs": [
    {
     "name": "stdout",
     "output_type": "stream",
     "text": [
      "Decision Tree MSE: 2402.73\n",
      "Random Forest MSE: 867.01\n"
     ]
    }
   ],
   "source": [
    "from sklearn.ensemble import RandomForestRegressor\n",
    "from sklearn.tree import DecisionTreeRegressor\n",
    "from sklearn.model_selection import train_test_split\n",
    "from sklearn.datasets import make_regression\n",
    "from sklearn.metrics import mean_squared_error\n",
    "\n",
    "# Generate synthetic regression dataset\n",
    "X, y = make_regression(n_samples=500, n_features=5, noise=0.3, random_state=42)\n",
    "\n",
    "# Split dataset into training and testing sets\n",
    "X_train, X_test, y_train, y_test = train_test_split(X, y, test_size=0.2, random_state=42)\n",
    "\n",
    "# Train a single Decision Tree Regressor\n",
    "tree_regressor = DecisionTreeRegressor(random_state=42)\n",
    "tree_regressor.fit(X_train, y_train)\n",
    "y_tree_pred = tree_regressor.predict(X_test)\n",
    "mse_tree = mean_squared_error(y_test, y_tree_pred)\n",
    "\n",
    "# Train a Random Forest Regressor\n",
    "rf_regressor = RandomForestRegressor(n_estimators=100, random_state=42)\n",
    "rf_regressor.fit(X_train, y_train)\n",
    "y_rf_pred = rf_regressor.predict(X_test)\n",
    "mse_rf = mean_squared_error(y_test, y_rf_pred)\n",
    "\n",
    "# Print results\n",
    "print(f\"Decision Tree MSE: {mse_tree:.2f}\")\n",
    "print(f\"Random Forest MSE: {mse_rf:.2f}\")\n"
   ]
  },
  {
   "cell_type": "markdown",
   "id": "576d640c-3124-462f-9c2d-9208527ace6c",
   "metadata": {},
   "source": [
    "QUESTION 25. Compute the Out-of-Bag (OOB) Score for a Random Forest Classifier ?"
   ]
  },
  {
   "cell_type": "code",
   "execution_count": 59,
   "id": "a4178fc5-3e22-4eed-92c3-abff7beb70b9",
   "metadata": {},
   "outputs": [
    {
     "name": "stdout",
     "output_type": "stream",
     "text": [
      "Out-of-Bag (OOB) Score: 0.9560\n"
     ]
    }
   ],
   "source": [
    "from sklearn.ensemble import RandomForestClassifier\n",
    "from sklearn.datasets import load_breast_cancer\n",
    "from sklearn.model_selection import train_test_split\n",
    "\n",
    "# Load dataset\n",
    "data = load_breast_cancer()\n",
    "X, y = data.data, data.target\n",
    "\n",
    "# Split dataset (for reference, though OOB does not require a test set)\n",
    "X_train, _, y_train, _ = train_test_split(X, y, test_size=0.2, random_state=42)\n",
    "\n",
    "# Create Random Forest Classifier with OOB enabled\n",
    "rf_classifier = RandomForestClassifier(n_estimators=100, oob_score=True, random_state=42)\n",
    "\n",
    "# Train the model\n",
    "rf_classifier.fit(X_train, y_train)\n",
    "\n",
    "# Compute and print OOB score\n",
    "print(f\"Out-of-Bag (OOB) Score: {rf_classifier.oob_score_:.4f}\")\n"
   ]
  },
  {
   "cell_type": "markdown",
   "id": "3a91e905-1fca-4e79-810a-54899920c6a2",
   "metadata": {},
   "source": [
    "QUESTION 26. Train a Bagging Classifier using SVM as a base estimator and print accuracy ?"
   ]
  },
  {
   "cell_type": "code",
   "execution_count": 62,
   "id": "8aaf4e15-d17d-4d81-a6b0-33f5340e95f3",
   "metadata": {},
   "outputs": [
    {
     "name": "stdout",
     "output_type": "stream",
     "text": [
      "Bagging Classifier (SVM) Accuracy: 1.00\n"
     ]
    }
   ],
   "source": [
    "from sklearn.ensemble import BaggingClassifier\n",
    "from sklearn.svm import SVC\n",
    "from sklearn.model_selection import train_test_split\n",
    "from sklearn.datasets import load_iris\n",
    "from sklearn.metrics import accuracy_score\n",
    "\n",
    "# Load dataset\n",
    "iris = load_iris()\n",
    "X, y = iris.data, iris.target\n",
    "\n",
    "# Split dataset into training and testing sets\n",
    "X_train, X_test, y_train, y_test = train_test_split(X, y, test_size=0.2, random_state=42)\n",
    "\n",
    "# Create base estimator (SVM)\n",
    "base_svm = SVC(kernel='rbf', probability=True)\n",
    "\n",
    "# Create Bagging Classifier\n",
    "bagging_svm = BaggingClassifier(base_svm, n_estimators=10, random_state=42)\n",
    "\n",
    "# Train the model\n",
    "bagging_svm.fit(X_train, y_train)\n",
    "\n",
    "# Make predictions\n",
    "y_pred = bagging_svm.predict(X_test)\n",
    "\n",
    "# Calculate accuracy\n",
    "accuracy = accuracy_score(y_test, y_pred)\n",
    "print(f\"Bagging Classifier (SVM) Accuracy: {accuracy:.2f}\")\n"
   ]
  },
  {
   "cell_type": "markdown",
   "id": "1639d4b6-0673-4b8f-a542-398f9d16b2b3",
   "metadata": {},
   "source": [
    "QUESTION 27. Train a Random Forest Classifier with different numbers of trees and compare accuracy"
   ]
  },
  {
   "cell_type": "code",
   "execution_count": 65,
   "id": "bf6cb4ae-15c1-4002-ab67-cd798587a91f",
   "metadata": {},
   "outputs": [
    {
     "name": "stdout",
     "output_type": "stream",
     "text": [
      "Random Forest with 5 trees - Accuracy: 0.97\n",
      "Random Forest with 10 trees - Accuracy: 1.00\n",
      "Random Forest with 50 trees - Accuracy: 1.00\n",
      "Random Forest with 100 trees - Accuracy: 1.00\n",
      "Random Forest with 200 trees - Accuracy: 1.00\n",
      "\n",
      "Accuracy Comparison for Different Tree Counts:\n",
      "5 trees: 0.97\n",
      "10 trees: 1.00\n",
      "50 trees: 1.00\n",
      "100 trees: 1.00\n",
      "200 trees: 1.00\n"
     ]
    }
   ],
   "source": [
    "from sklearn.ensemble import RandomForestClassifier\n",
    "from sklearn.datasets import load_iris\n",
    "from sklearn.model_selection import train_test_split\n",
    "from sklearn.metrics import accuracy_score\n",
    "\n",
    "# Load dataset\n",
    "iris = load_iris()\n",
    "X, y = iris.data, iris.target\n",
    "\n",
    "# Split dataset into training and testing sets\n",
    "X_train, X_test, y_train, y_test = train_test_split(X, y, test_size=0.2, random_state=42)\n",
    "\n",
    "# Test different numbers of trees\n",
    "n_trees = [5, 10, 50, 100, 200]\n",
    "accuracies = {}\n",
    "\n",
    "for n in n_trees:\n",
    "    rf_classifier = RandomForestClassifier(n_estimators=n, random_state=42)\n",
    "    rf_classifier.fit(X_train, y_train)\n",
    "    y_pred = rf_classifier.predict(X_test)\n",
    "    accuracy = accuracy_score(y_test, y_pred)\n",
    "    accuracies[n] = accuracy\n",
    "    print(f\"Random Forest with {n} trees - Accuracy: {accuracy:.2f}\")\n",
    "\n",
    "# Print results comparison\n",
    "print(\"\\nAccuracy Comparison for Different Tree Counts:\")\n",
    "for n, acc in accuracies.items():\n",
    "    print(f\"{n} trees: {acc:.2f}\")\n"
   ]
  },
  {
   "cell_type": "markdown",
   "id": "7965c64c-d13d-4297-9420-0c8eebca092a",
   "metadata": {},
   "source": [
    "QUESTION 28.  Train a Bagging Classifier using Logistic Regression as a base estimator and print AUC score ?"
   ]
  },
  {
   "cell_type": "code",
   "execution_count": 128,
   "id": "3c0d6196-646a-4e78-b660-afbf418a456f",
   "metadata": {},
   "outputs": [
    {
     "name": "stdout",
     "output_type": "stream",
     "text": [
      "AUC Score of Bagging Classifier with Logistic Regression: 0.9145\n"
     ]
    }
   ],
   "source": [
    "from sklearn.ensemble import BaggingClassifier\n",
    "from sklearn.linear_model import LogisticRegression\n",
    "from sklearn.datasets import make_classification\n",
    "from sklearn.model_selection import train_test_split\n",
    "from sklearn.metrics import roc_auc_score\n",
    "\n",
    "# Generate synthetic binary classification dataset\n",
    "X, y = make_classification(n_samples=1000, n_features=20, \n",
    "                           n_informative=15, n_redundant=5,\n",
    "                           random_state=42)\n",
    "\n",
    "# Split the dataset into training and testing sets\n",
    "X_train, X_test, y_train, y_test = train_test_split(X, y, test_size=0.2, random_state=42)\n",
    "\n",
    "# Initialize Bagging Classifier with Logistic Regression as base estimator\n",
    "bagging_clf = BaggingClassifier(\n",
    "    estimator=LogisticRegression(solver='liblinear'),\n",
    "    n_estimators=50,\n",
    "    max_samples=0.8,\n",
    "    random_state=42\n",
    ")\n",
    "\n",
    "# Train the model\n",
    "bagging_clf.fit(X_train, y_train)\n",
    "\n",
    "# Predict probabilities for AUC computation\n",
    "y_prob = bagging_clf.predict_proba(X_test)[:, 1]\n",
    "\n",
    "# Calculate AUC score\n",
    "auc = roc_auc_score(y_test, y_prob)\n",
    "print(f\"AUC Score of Bagging Classifier with Logistic Regression: {auc:.4f}\")\n"
   ]
  },
  {
   "cell_type": "markdown",
   "id": "7445031d-7dbc-4e53-92a0-ce43645844f4",
   "metadata": {},
   "source": [
    "QUESTION 29. Train a Random Forest Regressor and analyze feature importance scores?"
   ]
  },
  {
   "cell_type": "code",
   "execution_count": 75,
   "id": "4101ce7e-e59c-4e32-83f8-a68ec6e20c2a",
   "metadata": {},
   "outputs": [
    {
     "data": {
      "image/png": "[encoded data removed]",
      "text/plain": [
       "<Figure size 640x480 with 1 Axes>"
      ]
     },
     "metadata": {},
     "output_type": "display_data"
    },
    {
     "name": "stdout",
     "output_type": "stream",
     "text": [
      "Feature Importance Scores:\n",
      "Feature 0: 0.0511\n",
      "Feature 1: 0.4719\n",
      "Feature 2: 0.0588\n",
      "Feature 3: 0.4000\n",
      "Feature 4: 0.0182\n"
     ]
    }
   ],
   "source": [
    "from sklearn.ensemble import RandomForestRegressor\n",
    "from sklearn.datasets import make_regression\n",
    "from sklearn.model_selection import train_test_split\n",
    "import matplotlib.pyplot as plt\n",
    "\n",
    "# Generate synthetic regression dataset\n",
    "X, y = make_regression(n_samples=500, n_features=5, noise=0.3, random_state=42)\n",
    "\n",
    "# Split dataset into training and testing sets\n",
    "X_train, X_test, y_train, y_test = train_test_split(X, y, test_size=0.2, random_state=42)\n",
    "\n",
    "# Create and train Random Forest Regressor\n",
    "rf_regressor = RandomForestRegressor(n_estimators=100, random_state=42)\n",
    "rf_regressor.fit(X_train, y_train)\n",
    "\n",
    "# Get feature importance scores\n",
    "feature_importances = rf_regressor.feature_importances_\n",
    "\n",
    "# Plot feature importance\n",
    "plt.bar(range(len(feature_importances)), feature_importances)\n",
    "plt.xlabel(\"Feature Index\")\n",
    "plt.ylabel(\"Importance Score\")\n",
    "plt.title(\"Feature Importance in Random Forest Regressor\")\n",
    "plt.show()\n",
    "\n",
    "# Print feature importance scores\n",
    "print(\"Feature Importance Scores:\")\n",
    "for i, importance in enumerate(feature_importances):\n",
    "    print(f\"Feature {i}: {importance:.4f}\")\n"
   ]
  },
  {
   "cell_type": "markdown",
   "id": "39eaa84e-c819-4215-af97-65c50b9bd5dc",
   "metadata": {},
   "source": [
    "QUESTION 30.  Train an ensemble model using both Bagging and Random Forest and compare accuracy"
   ]
  },
  {
   "cell_type": "code",
   "execution_count": 78,
   "id": "fb7021e6-ee12-424b-8bff-6a3bae8c6342",
   "metadata": {},
   "outputs": [
    {
     "name": "stdout",
     "output_type": "stream",
     "text": [
      "Bagging Classifier Accuracy: 1.00\n",
      "Random Forest Classifier Accuracy: 1.00\n"
     ]
    }
   ],
   "source": [
    "from sklearn.ensemble import BaggingClassifier, RandomForestClassifier\n",
    "from sklearn.tree import DecisionTreeClassifier\n",
    "from sklearn.model_selection import train_test_split\n",
    "from sklearn.datasets import load_iris\n",
    "from sklearn.metrics import accuracy_score\n",
    "\n",
    "# Load dataset\n",
    "iris = load_iris()\n",
    "X, y = iris.data, iris.target\n",
    "\n",
    "# Split dataset into training and testing sets\n",
    "X_train, X_test, y_train, y_test = train_test_split(X, y, test_size=0.2, random_state=42)\n",
    "\n",
    "# Train Bagging Classifier (with Decision Tree)\n",
    "bagging_model = BaggingClassifier(DecisionTreeClassifier(), n_estimators=10, random_state=42)\n",
    "bagging_model.fit(X_train, y_train)\n",
    "y_bagging_pred = bagging_model.predict(X_test)\n",
    "accuracy_bagging = accuracy_score(y_test, y_bagging_pred)\n",
    "\n",
    "# Train Random Forest Classifier\n",
    "rf_model = RandomForestClassifier(n_estimators=10, random_state=42)\n",
    "rf_model.fit(X_train, y_train)\n",
    "y_rf_pred = rf_model.predict(X_test)\n",
    "accuracy_rf = accuracy_score(y_test, y_rf_pred)\n",
    "\n",
    "# Print accuracy comparison\n",
    "print(f\"Bagging Classifier Accuracy: {accuracy_bagging:.2f}\")\n",
    "print(f\"Random Forest Classifier Accuracy: {accuracy_rf:.2f}\")\n"
   ]
  },
  {
   "cell_type": "markdown",
   "id": "f407fcde-25a6-424a-9794-ea1521155d8f",
   "metadata": {},
   "source": [
    "QUESTION 31. Train a Random Forest Classifier and tune hyperparameters using GridSearchCV ?"
   ]
  },
  {
   "cell_type": "code",
   "execution_count": 81,
   "id": "49e403ef-d56d-41d3-8dce-3171b300c51a",
   "metadata": {},
   "outputs": [
    {
     "name": "stdout",
     "output_type": "stream",
     "text": [
      "Best Hyperparameters: {'max_depth': None, 'min_samples_leaf': 1, 'min_samples_split': 2, 'n_estimators': 10}\n",
      "Optimized Random Forest Classifier Accuracy: 1.00\n"
     ]
    }
   ],
   "source": [
    "from sklearn.ensemble import RandomForestClassifier\n",
    "from sklearn.datasets import load_iris\n",
    "from sklearn.model_selection import train_test_split, GridSearchCV\n",
    "from sklearn.metrics import accuracy_score\n",
    "\n",
    "# Load dataset\n",
    "iris = load_iris()\n",
    "X, y = iris.data, iris.target\n",
    "\n",
    "# Split dataset into training and testing sets\n",
    "X_train, X_test, y_train, y_test = train_test_split(X, y, test_size=0.2, random_state=42)\n",
    "\n",
    "# Define the parameter grid\n",
    "param_grid = {\n",
    "    'n_estimators': [10, 50, 100],   # Number of trees\n",
    "    'max_depth': [None, 5, 10],      # Maximum tree depth\n",
    "    'min_samples_split': [2, 5, 10], # Minimum samples required for a split\n",
    "    'min_samples_leaf': [1, 2, 4]    # Minimum samples in a leaf\n",
    "}\n",
    "\n",
    "# Initialize Random Forest Classifier\n",
    "rf_model = RandomForestClassifier(random_state=42)\n",
    "\n",
    "# Perform GridSearchCV for hyperparameter tuning\n",
    "grid_search = GridSearchCV(rf_model, param_grid, cv=5, scoring='accuracy', n_jobs=-1)\n",
    "grid_search.fit(X_train, y_train)\n",
    "\n",
    "# Get the best parameters and best model\n",
    "best_params = grid_search.best_params_\n",
    "best_model = grid_search.best_estimator_\n",
    "\n",
    "# Make predictions using best model\n",
    "y_pred = best_model.predict(X_test)\n",
    "\n",
    "# Calculate accuracy\n",
    "accuracy = accuracy_score(y_test, y_pred)\n",
    "\n",
    "# Print results\n",
    "print(f\"Best Hyperparameters: {best_params}\")\n",
    "print(f\"Optimized Random Forest Classifier Accuracy: {accuracy:.2f}\")\n"
   ]
  },
  {
   "cell_type": "markdown",
   "id": "121c1b50-f743-4757-80f2-2367893c05e6",
   "metadata": {},
   "source": [
    "QUESTION 32.  Train a Bagging Regressor with different numbers of base estimators and compare performance."
   ]
  },
  {
   "cell_type": "code",
   "execution_count": 84,
   "id": "38205574-d6f3-43ad-a8b9-f82325e90dc8",
   "metadata": {},
   "outputs": [
    {
     "name": "stdout",
     "output_type": "stream",
     "text": [
      "Bagging Regressor with 5 base estimators - MSE: 1237.4021\n",
      "Bagging Regressor with 10 base estimators - MSE: 1126.7239\n",
      "Bagging Regressor with 50 base estimators - MSE: 877.9337\n",
      "Bagging Regressor with 100 base estimators - MSE: 862.0295\n",
      "Bagging Regressor with 200 base estimators - MSE: 818.8956\n"
     ]
    },
    {
     "data": {
      "image/png": "[encoded data removed]",
      "text/plain": [
       "<Figure size 640x480 with 1 Axes>"
      ]
     },
     "metadata": {},
     "output_type": "display_data"
    }
   ],
   "source": [
    "from sklearn.ensemble import BaggingRegressor\n",
    "from sklearn.tree import DecisionTreeRegressor\n",
    "from sklearn.model_selection import train_test_split\n",
    "from sklearn.datasets import make_regression\n",
    "from sklearn.metrics import mean_squared_error\n",
    "import matplotlib.pyplot as plt\n",
    "\n",
    "# Generate synthetic regression dataset\n",
    "X, y = make_regression(n_samples=500, n_features=5, noise=0.3, random_state=42)\n",
    "\n",
    "# Split dataset into training and testing sets\n",
    "X_train, X_test, y_train, y_test = train_test_split(X, y, test_size=0.2, random_state=42)\n",
    "\n",
    "# Define different numbers of base estimators\n",
    "n_estimators_list = [5, 10, 50, 100, 200]\n",
    "mse_scores = []\n",
    "\n",
    "# Train Bagging Regressor with different numbers of base estimators\n",
    "for n in n_estimators_list:\n",
    "    bagging_regressor = BaggingRegressor(DecisionTreeRegressor(), n_estimators=n, random_state=42)\n",
    "    bagging_regressor.fit(X_train, y_train)\n",
    "    y_pred = bagging_regressor.predict(X_test)\n",
    "    mse = mean_squared_error(y_test, y_pred)\n",
    "    mse_scores.append(mse)\n",
    "    print(f\"Bagging Regressor with {n} base estimators - MSE: {mse:.4f}\")\n",
    "\n",
    "# Plot performance comparison\n",
    "plt.plot(n_estimators_list, mse_scores, marker='o', linestyle='dashed', color='b')\n",
    "plt.xlabel(\"Number of Base Estimators\")\n",
    "plt.ylabel(\"Mean Squared Error (MSE)\")\n",
    "plt.title(\"Performance Comparison: Bagging Regressor\")\n",
    "plt.show()\n"
   ]
  },
  {
   "cell_type": "markdown",
   "id": "4f616410-65e8-4810-bfc5-e90aa9b10a4e",
   "metadata": {},
   "source": [
    "QUESTION 33.  Train a Random Forest Classifier and analyze misclassified samples ."
   ]
  },
  {
   "cell_type": "code",
   "execution_count": 87,
   "id": "5b225b1b-d1b4-4e20-a29d-d7dadf766af2",
   "metadata": {},
   "outputs": [
    {
     "name": "stdout",
     "output_type": "stream",
     "text": [
      "Random Forest Accuracy: 1.00\n",
      "\n",
      "Misclassified Samples:\n",
      "Empty DataFrame\n",
      "Columns: [sepal length (cm), sepal width (cm), petal length (cm), petal width (cm), True Label, Predicted Label]\n",
      "Index: []\n"
     ]
    }
   ],
   "source": [
    "import numpy as np\n",
    "import pandas as pd\n",
    "from sklearn.ensemble import RandomForestClassifier\n",
    "from sklearn.datasets import load_iris\n",
    "from sklearn.model_selection import train_test_split\n",
    "from sklearn.metrics import accuracy_score\n",
    "\n",
    "# Load dataset\n",
    "iris = load_iris()\n",
    "X, y = iris.data, iris.target\n",
    "\n",
    "# Split dataset into training and testing sets\n",
    "X_train, X_test, y_train, y_test = train_test_split(X, y, test_size=0.2, random_state=42)\n",
    "\n",
    "# Train Random Forest Classifier\n",
    "rf_classifier = RandomForestClassifier(n_estimators=100, random_state=42)\n",
    "rf_classifier.fit(X_train, y_train)\n",
    "\n",
    "# Make predictions\n",
    "y_pred = rf_classifier.predict(X_test)\n",
    "\n",
    "# Calculate accuracy\n",
    "accuracy = accuracy_score(y_test, y_pred)\n",
    "print(f\"Random Forest Accuracy: {accuracy:.2f}\")\n",
    "\n",
    "# Identify misclassified samples\n",
    "misclassified_indices = np.where(y_pred != y_test)[0]\n",
    "misclassified_samples = pd.DataFrame(X_test[misclassified_indices], columns=iris.feature_names)\n",
    "misclassified_samples['True Label'] = y_test[misclassified_indices]\n",
    "misclassified_samples['Predicted Label'] = y_pred[misclassified_indices]\n",
    "\n",
    "# Print misclassified samples\n",
    "print(\"\\nMisclassified Samples:\")\n",
    "print(misclassified_samples)\n"
   ]
  },
  {
   "cell_type": "markdown",
   "id": "47aebc8e-a741-4944-a83c-a58ec3ae348a",
   "metadata": {},
   "source": [
    "QUESTION 34.  Train a Bagging Classifier and compare its performance with a single Decision Tree Classifier. "
   ]
  },
  {
   "cell_type": "code",
   "execution_count": 90,
   "id": "9d361681-7d42-47fd-959e-79b7d22d40e5",
   "metadata": {},
   "outputs": [
    {
     "name": "stdout",
     "output_type": "stream",
     "text": [
      "Single Decision Tree Accuracy: 1.00\n",
      "Bagging Classifier Accuracy: 1.00\n"
     ]
    }
   ],
   "source": [
    "from sklearn.ensemble import BaggingClassifier\n",
    "from sklearn.tree import DecisionTreeClassifier\n",
    "from sklearn.model_selection import train_test_split\n",
    "from sklearn.datasets import load_iris\n",
    "from sklearn.metrics import accuracy_score\n",
    "\n",
    "# Load dataset\n",
    "iris = load_iris()\n",
    "X, y = iris.data, iris.target\n",
    "\n",
    "# Split dataset into training and testing sets\n",
    "X_train, X_test, y_train, y_test = train_test_split(X, y, test_size=0.2, random_state=42)\n",
    "\n",
    "# Train a single Decision Tree Classifier\n",
    "tree_classifier = DecisionTreeClassifier(random_state=42)\n",
    "tree_classifier.fit(X_train, y_train)\n",
    "y_tree_pred = tree_classifier.predict(X_test)\n",
    "accuracy_tree = accuracy_score(y_test, y_tree_pred)\n",
    "\n",
    "# Train a Bagging Classifier with Decision Trees\n",
    "bagging_classifier = BaggingClassifier(DecisionTreeClassifier(), n_estimators=10, random_state=42)\n",
    "bagging_classifier.fit(X_train, y_train)\n",
    "y_bagging_pred = bagging_classifier.predict(X_test)\n",
    "accuracy_bagging = accuracy_score(y_test, y_bagging_pred)\n",
    "\n",
    "# Print accuracy comparison\n",
    "print(f\"Single Decision Tree Accuracy: {accuracy_tree:.2f}\")\n",
    "print(f\"Bagging Classifier Accuracy: {accuracy_bagging:.2f}\")\n"
   ]
  },
  {
   "cell_type": "markdown",
   "id": "463020cb-53c4-4cad-ae24-fe3a64a2b2eb",
   "metadata": {},
   "source": [
    "QUESTION 35. Train a Random Forest Classifier and visualize the confusion matrix."
   ]
  },
  {
   "cell_type": "code",
   "execution_count": 93,
   "id": "8169d206-2d4c-4c1c-befc-df6238309570",
   "metadata": {},
   "outputs": [
    {
     "name": "stdout",
     "output_type": "stream",
     "text": [
      "Random Forest Classifier Accuracy: 1.00\n"
     ]
    },
    {
     "data": {
      "image/png": "[encoded data removed]",
      "text/plain": [
       "<Figure size 600x500 with 2 Axes>"
      ]
     },
     "metadata": {},
     "output_type": "display_data"
    }
   ],
   "source": [
    "import numpy as np\n",
    "import matplotlib.pyplot as plt\n",
    "import seaborn as sns\n",
    "from sklearn.ensemble import RandomForestClassifier\n",
    "from sklearn.datasets import load_iris\n",
    "from sklearn.model_selection import train_test_split\n",
    "from sklearn.metrics import confusion_matrix, accuracy_score\n",
    "\n",
    "# Load dataset\n",
    "iris = load_iris()\n",
    "X, y = iris.data, iris.target\n",
    "\n",
    "# Split dataset into training and testing sets\n",
    "X_train, X_test, y_train, y_test = train_test_split(X, y, test_size=0.2, random_state=42)\n",
    "\n",
    "# Train Random Forest Classifier\n",
    "rf_classifier = RandomForestClassifier(n_estimators=100, random_state=42)\n",
    "rf_classifier.fit(X_train, y_train)\n",
    "\n",
    "# Make predictions\n",
    "y_pred = rf_classifier.predict(X_test)\n",
    "\n",
    "# Compute accuracy\n",
    "accuracy = accuracy_score(y_test, y_pred)\n",
    "print(f\"Random Forest Classifier Accuracy: {accuracy:.2f}\")\n",
    "\n",
    "# Compute confusion matrix\n",
    "conf_matrix = confusion_matrix(y_test, y_pred)\n",
    "\n",
    "# Visualize confusion matrix\n",
    "plt.figure(figsize=(6, 5))\n",
    "sns.heatmap(conf_matrix, annot=True, fmt=\"d\", cmap=\"Blues\", xticklabels=iris.target_names, yticklabels=iris.target_names)\n",
    "plt.xlabel(\"Predicted Label\")\n",
    "plt.ylabel(\"True Label\")\n",
    "plt.title(\"Confusion Matrix for Random Forest Classifier\")\n",
    "plt.show()\n"
   ]
  },
  {
   "cell_type": "markdown",
   "id": "27dc4816-f621-4623-9c3b-9e4f4593fa92",
   "metadata": {},
   "source": [
    "QUESTION 36.  Train a Stacking Classifier using Decision Trees, SVM, and Logistic Regression, and compare accuracy."
   ]
  },
  {
   "cell_type": "code",
   "execution_count": 96,
   "id": "a9bcb043-ee79-4129-958b-4970f9533e7c",
   "metadata": {},
   "outputs": [
    {
     "name": "stdout",
     "output_type": "stream",
     "text": [
      "Stacking Classifier Accuracy: 1.00\n",
      "Decision_tree Accuracy: 1.00\n",
      "Svm Accuracy: 1.00\n",
      "Logistic Accuracy: 1.00\n"
     ]
    }
   ],
   "source": [
    "from sklearn.ensemble import StackingClassifier\n",
    "from sklearn.tree import DecisionTreeClassifier\n",
    "from sklearn.svm import SVC\n",
    "from sklearn.linear_model import LogisticRegression\n",
    "from sklearn.model_selection import train_test_split\n",
    "from sklearn.datasets import load_iris\n",
    "from sklearn.metrics import accuracy_score\n",
    "\n",
    "# Load dataset\n",
    "iris = load_iris()\n",
    "X, y = iris.data, iris.target\n",
    "\n",
    "# Split dataset into training and testing sets\n",
    "X_train, X_test, y_train, y_test = train_test_split(X, y, test_size=0.2, random_state=42)\n",
    "\n",
    "# Define base estimators\n",
    "base_estimators = [\n",
    "    ('decision_tree', DecisionTreeClassifier()),\n",
    "    ('svm', SVC(probability=True)),\n",
    "    ('logistic', LogisticRegression(max_iter=500))\n",
    "]\n",
    "\n",
    "# Create Stacking Classifier\n",
    "stacking_model = StackingClassifier(estimators=base_estimators, final_estimator=LogisticRegression())\n",
    "\n",
    "# Train the stacking model\n",
    "stacking_model.fit(X_train, y_train)\n",
    "\n",
    "# Make predictions\n",
    "y_pred_stacking = stacking_model.predict(X_test)\n",
    "\n",
    "# Calculate accuracy\n",
    "accuracy_stacking = accuracy_score(y_test, y_pred_stacking)\n",
    "print(f\"Stacking Classifier Accuracy: {accuracy_stacking:.2f}\")\n",
    "\n",
    "# Compare with individual models\n",
    "for name, model in base_estimators:\n",
    "    model.fit(X_train, y_train)\n",
    "    y_pred = model.predict(X_test)\n",
    "    accuracy = accuracy_score(y_test, y_pred)\n",
    "    print(f\"{name.capitalize()} Accuracy: {accuracy:.2f}\")\n"
   ]
  },
  {
   "cell_type": "markdown",
   "id": "c955a069-71f7-4d0e-b712-c70e48226226",
   "metadata": {},
   "source": [
    "QUESTION 37.  Train a Random Forest Classifier and print the top 5 most important features."
   ]
  },
  {
   "cell_type": "code",
   "execution_count": 99,
   "id": "c8195207-cdf8-453f-882d-97103f447555",
   "metadata": {},
   "outputs": [
    {
     "name": "stdout",
     "output_type": "stream",
     "text": [
      "Top 5 Most Important Features:\n",
      "worst area: 0.1539\n",
      "worst concave points: 0.1447\n",
      "mean concave points: 0.1062\n",
      "worst radius: 0.0780\n",
      "mean concavity: 0.0680\n"
     ]
    }
   ],
   "source": [
    "from sklearn.ensemble import RandomForestClassifier\n",
    "from sklearn.datasets import load_breast_cancer\n",
    "from sklearn.model_selection import train_test_split\n",
    "\n",
    "# Load dataset\n",
    "data = load_breast_cancer()\n",
    "X, y = data.data, data.target\n",
    "feature_names = data.feature_names\n",
    "\n",
    "# Split dataset into training and testing sets\n",
    "X_train, X_test, y_train, y_test = train_test_split(X, y, test_size=0.2, random_state=42)\n",
    "\n",
    "# Train Random Forest Classifier\n",
    "rf_classifier = RandomForestClassifier(n_estimators=100, random_state=42)\n",
    "rf_classifier.fit(X_train, y_train)\n",
    "\n",
    "# Get feature importance scores\n",
    "importances = rf_classifier.feature_importances_\n",
    "\n",
    "# Sort and select top 5 most important features\n",
    "top_5_features = sorted(zip(feature_names, importances), key=lambda x: x[1], reverse=True)[:5]\n",
    "\n",
    "# Print top 5 features with importance scores\n",
    "print(\"Top 5 Most Important Features:\")\n",
    "for feature, importance in top_5_features:\n",
    "    print(f\"{feature}: {importance:.4f}\")\n"
   ]
  },
  {
   "cell_type": "markdown",
   "id": "5c14ff57-1f69-427a-a21b-732efa47d0eb",
   "metadata": {},
   "source": [
    "QUESTION 38.  Train a Bagging Classifier and evaluate performance using Precision, Recall, and F1-score."
   ]
  },
  {
   "cell_type": "code",
   "execution_count": 103,
   "id": "af5e2474-0caa-4a59-bf20-ef8fd92c4a0e",
   "metadata": {},
   "outputs": [
    {
     "name": "stdout",
     "output_type": "stream",
     "text": [
      "Bagging Classifier Precision: 1.00\n",
      "Bagging Classifier Recall: 1.00\n",
      "Bagging Classifier F1-score: 1.00\n"
     ]
    }
   ],
   "source": [
    "from sklearn.ensemble import BaggingClassifier\n",
    "from sklearn.tree import DecisionTreeClassifier\n",
    "from sklearn.model_selection import train_test_split\n",
    "from sklearn.datasets import load_iris\n",
    "from sklearn.metrics import precision_score, recall_score, f1_score\n",
    "\n",
    "# Load dataset\n",
    "iris = load_iris()\n",
    "X, y = iris.data, iris.target\n",
    "\n",
    "# Split dataset into training and testing sets\n",
    "X_train, X_test, y_train, y_test = train_test_split(X, y, test_size=0.2, random_state=42)\n",
    "\n",
    "# Train Bagging Classifier with Decision Trees\n",
    "bagging_classifier = BaggingClassifier(DecisionTreeClassifier(), n_estimators=10, random_state=42)\n",
    "bagging_classifier.fit(X_train, y_train)\n",
    "\n",
    "# Make predictions\n",
    "y_pred = bagging_classifier.predict(X_test)\n",
    "\n",
    "# Evaluate performance\n",
    "precision = precision_score(y_test, y_pred, average='weighted')\n",
    "recall = recall_score(y_test, y_pred, average='weighted')\n",
    "f1 = f1_score(y_test, y_pred, average='weighted')\n",
    "\n",
    "# Print evaluation metrics\n",
    "print(f\"Bagging Classifier Precision: {precision:.2f}\")\n",
    "print(f\"Bagging Classifier Recall: {recall:.2f}\")\n",
    "print(f\"Bagging Classifier F1-score: {f1:.2f}\")\n"
   ]
  },
  {
   "cell_type": "markdown",
   "id": "c312d708-d4ce-4c8d-8218-874e623b1446",
   "metadata": {},
   "source": [
    "QUESTION 39.  Train a Random Forest Classifier and analyze the effect of max_depth on accuracy."
   ]
  },
  {
   "cell_type": "code",
   "execution_count": 106,
   "id": "c1b16b36-5399-4e30-b686-f8d7cb4fc7eb",
   "metadata": {},
   "outputs": [
    {
     "name": "stdout",
     "output_type": "stream",
     "text": [
      "Random Forest with max_depth=2 - Accuracy: 1.00\n",
      "Random Forest with max_depth=5 - Accuracy: 1.00\n",
      "Random Forest with max_depth=10 - Accuracy: 1.00\n",
      "Random Forest with max_depth=None - Accuracy: 1.00\n"
     ]
    },
    {
     "data": {
      "image/png": "[encoded data removed]",
      "text/plain": [
       "<Figure size 640x480 with 1 Axes>"
      ]
     },
     "metadata": {},
     "output_type": "display_data"
    }
   ],
   "source": [
    "import numpy as np\n",
    "import matplotlib.pyplot as plt\n",
    "from sklearn.ensemble import RandomForestClassifier\n",
    "from sklearn.datasets import load_iris\n",
    "from sklearn.model_selection import train_test_split\n",
    "from sklearn.metrics import accuracy_score\n",
    "\n",
    "# Load dataset\n",
    "iris = load_iris()\n",
    "X, y = iris.data, iris.target\n",
    "\n",
    "# Split dataset into training and testing sets\n",
    "X_train, X_test, y_train, y_test = train_test_split(X, y, test_size=0.2, random_state=42)\n",
    "\n",
    "# Define max_depth values to test\n",
    "max_depth_values = [2, 5, 10, None]  # None allows full tree growth\n",
    "accuracies = []\n",
    "\n",
    "# Train Random Forest with different max_depth values\n",
    "for depth in max_depth_values:\n",
    "    rf_classifier = RandomForestClassifier(n_estimators=100, max_depth=depth, random_state=42)\n",
    "    rf_classifier.fit(X_train, y_train)\n",
    "    y_pred = rf_classifier.predict(X_test)\n",
    "    accuracy = accuracy_score(y_test, y_pred)\n",
    "    accuracies.append(accuracy)\n",
    "    print(f\"Random Forest with max_depth={depth} - Accuracy: {accuracy:.2f}\")\n",
    "\n",
    "# Plot max_depth vs accuracy\n",
    "plt.plot(max_depth_values[:-1] + ['None'], accuracies, marker='o', linestyle='dashed', color='b')\n",
    "plt.xlabel(\"Max Depth\")\n",
    "plt.ylabel(\"Accuracy\")\n",
    "plt.title(\"Effect of max_depth on Random Forest Accuracy\")\n",
    "plt.show()\n"
   ]
  },
  {
   "cell_type": "markdown",
   "id": "02e5191f-cfe5-48ef-8ddf-8ad9ca7f665f",
   "metadata": {},
   "source": [
    "QUESTION 40. Train a Bagging Regressor using different base estimators (DecisionTree and KNeighbors) and compare \n",
    "performance."
   ]
  },
  {
   "cell_type": "code",
   "execution_count": 109,
   "id": "eb4f47c8-a3da-4b4e-86df-21c431d8c9d7",
   "metadata": {},
   "outputs": [
    {
     "name": "stdout",
     "output_type": "stream",
     "text": [
      "Bagging Regressor (Decision Tree) MSE: 1126.7239\n",
      "Bagging Regressor (KNeighbors) MSE: 1410.5822\n"
     ]
    }
   ],
   "source": [
    "from sklearn.ensemble import BaggingRegressor\n",
    "from sklearn.tree import DecisionTreeRegressor\n",
    "from sklearn.neighbors import KNeighborsRegressor\n",
    "from sklearn.model_selection import train_test_split\n",
    "from sklearn.datasets import make_regression\n",
    "from sklearn.metrics import mean_squared_error\n",
    "\n",
    "# Generate synthetic regression dataset\n",
    "X, y = make_regression(n_samples=500, n_features=5, noise=0.3, random_state=42)\n",
    "\n",
    "# Split dataset into training and testing sets\n",
    "X_train, X_test, y_train, y_test = train_test_split(X, y, test_size=0.2, random_state=42)\n",
    "\n",
    "# Define base estimators\n",
    "tree_regressor = DecisionTreeRegressor()\n",
    "knn_regressor = KNeighborsRegressor()\n",
    "\n",
    "# Train Bagging Regressor with Decision Tree\n",
    "bagging_tree = BaggingRegressor(tree_regressor, n_estimators=10, random_state=42)\n",
    "bagging_tree.fit(X_train, y_train)\n",
    "y_pred_tree = bagging_tree.predict(X_test)\n",
    "mse_tree = mean_squared_error(y_test, y_pred_tree)\n",
    "\n",
    "# Train Bagging Regressor with KNeighbors\n",
    "bagging_knn = BaggingRegressor(knn_regressor, n_estimators=10, random_state=42)\n",
    "bagging_knn.fit(X_train, y_train)\n",
    "y_pred_knn = bagging_knn.predict(X_test)\n",
    "mse_knn = mean_squared_error(y_test, y_pred_knn)\n",
    "\n",
    "# Print MSE results\n",
    "print(f\"Bagging Regressor (Decision Tree) MSE: {mse_tree:.4f}\")\n",
    "print(f\"Bagging Regressor (KNeighbors) MSE: {mse_knn:.4f}\")\n"
   ]
  },
  {
   "cell_type": "markdown",
   "id": "f12f14f7-92f4-4ad3-b146-00aa3ada736c",
   "metadata": {},
   "source": [
    "QUESTION 41. Train a Random Forest Classifier and evaluate its performance using ROC-AUC Score."
   ]
  },
  {
   "cell_type": "code",
   "execution_count": 112,
   "id": "443f2897-8d33-476d-84e7-fc22e4f10ed8",
   "metadata": {},
   "outputs": [
    {
     "name": "stdout",
     "output_type": "stream",
     "text": [
      "Random Forest Classifier ROC-AUC Score: 0.9953\n"
     ]
    }
   ],
   "source": [
    "from sklearn.ensemble import RandomForestClassifier\n",
    "from sklearn.datasets import load_breast_cancer\n",
    "from sklearn.model_selection import train_test_split\n",
    "from sklearn.metrics import roc_auc_score\n",
    "\n",
    "# Load dataset\n",
    "data = load_breast_cancer()\n",
    "X, y = data.data, data.target\n",
    "\n",
    "# Split dataset into training and testing sets\n",
    "X_train, X_test, y_train, y_test = train_test_split(X, y, test_size=0.2, random_state=42)\n",
    "\n",
    "# Train Random Forest Classifier\n",
    "rf_classifier = RandomForestClassifier(n_estimators=100, random_state=42)\n",
    "rf_classifier.fit(X_train, y_train)\n",
    "\n",
    "# Make probability predictions for ROC-AUC evaluation\n",
    "y_pred_prob = rf_classifier.predict_proba(X_test)[:, 1]\n",
    "\n",
    "# Compute ROC-AUC Score\n",
    "roc_auc = roc_auc_score(y_test, y_pred_prob)\n",
    "print(f\"Random Forest Classifier ROC-AUC Score: {roc_auc:.4f}\")\n"
   ]
  },
  {
   "cell_type": "markdown",
   "id": "77c9e210-b364-4c2e-a400-8c8b35dfcf1c",
   "metadata": {},
   "source": [
    "QUESTION 42.  Train a Bagging Classifier and evaluate its performance using cross-validation ?"
   ]
  },
  {
   "cell_type": "code",
   "execution_count": 115,
   "id": "34ec3574-bda9-4afb-82cf-cc8f465d62b9",
   "metadata": {},
   "outputs": [
    {
     "name": "stdout",
     "output_type": "stream",
     "text": [
      "Cross-Validation Scores: [0.96666667 0.96666667 0.9        0.93333333 1.        ]\n",
      "Mean Accuracy: 0.95\n"
     ]
    }
   ],
   "source": [
    "from sklearn.ensemble import BaggingClassifier\n",
    "from sklearn.tree import DecisionTreeClassifier\n",
    "from sklearn.model_selection import cross_val_score\n",
    "from sklearn.datasets import load_iris\n",
    "\n",
    "# Load dataset\n",
    "iris = load_iris()\n",
    "X, y = iris.data, iris.target\n",
    "\n",
    "# Create Bagging Classifier with Decision Tree base estimator\n",
    "bagging_classifier = BaggingClassifier(DecisionTreeClassifier(), n_estimators=10, random_state=42)\n",
    "\n",
    "# Perform cross-validation with 5 folds\n",
    "cv_scores = cross_val_score(bagging_classifier, X, y, cv=5, scoring='accuracy')\n",
    "\n",
    "# Print cross-validation scores\n",
    "print(f\"Cross-Validation Scores: {cv_scores}\")\n",
    "print(f\"Mean Accuracy: {cv_scores.mean():.2f}\")\n"
   ]
  },
  {
   "cell_type": "markdown",
   "id": "aed236e9-71f7-444a-820c-3d8258f308e2",
   "metadata": {},
   "source": [
    "QUESTION 43.  Train a Random Forest Classifier and plot the Precision-Recall curve ."
   ]
  },
  {
   "cell_type": "code",
   "execution_count": 118,
   "id": "74864790-387f-463f-aafd-6cd838f5128e",
   "metadata": {},
   "outputs": [
    {
     "name": "stdout",
     "output_type": "stream",
     "text": [
      "Precision-Recall AUC: 0.9971\n"
     ]
    },
    {
     "data": {
      "image/png": "[encoded data removed]",
      "text/plain": [
       "<Figure size 600x500 with 1 Axes>"
      ]
     },
     "metadata": {},
     "output_type": "display_data"
    }
   ],
   "source": [
    "import matplotlib.pyplot as plt\n",
    "from sklearn.ensemble import RandomForestClassifier\n",
    "from sklearn.datasets import load_breast_cancer\n",
    "from sklearn.model_selection import train_test_split\n",
    "from sklearn.metrics import precision_recall_curve, auc\n",
    "\n",
    "# Load dataset\n",
    "data = load_breast_cancer()\n",
    "X, y = data.data, data.target\n",
    "\n",
    "# Split dataset into training and testing sets\n",
    "X_train, X_test, y_train, y_test = train_test_split(X, y, test_size=0.2, random_state=42)\n",
    "\n",
    "# Train Random Forest Classifier\n",
    "rf_classifier = RandomForestClassifier(n_estimators=100, random_state=42)\n",
    "rf_classifier.fit(X_train, y_train)\n",
    "\n",
    "# Predict probabilities for Precision-Recall curve\n",
    "y_pred_prob = rf_classifier.predict_proba(X_test)[:, 1]\n",
    "\n",
    "# Compute precision-recall values\n",
    "precision, recall, _ = precision_recall_curve(y_test, y_pred_prob)\n",
    "\n",
    "# Compute AUC for PR curve\n",
    "pr_auc = auc(recall, precision)\n",
    "print(f\"Precision-Recall AUC: {pr_auc:.4f}\")\n",
    "\n",
    "# Plot Precision-Recall Curve\n",
    "plt.figure(figsize=(6, 5))\n",
    "plt.plot(recall, precision, marker='o', linestyle='dashed', color='b', label=f'PR AUC = {pr_auc:.4f}')\n",
    "plt.xlabel(\"Recall\")\n",
    "plt.ylabel(\"Precision\")\n",
    "plt.title(\"Precision-Recall Curve for Random Forest Classifier\")\n",
    "plt.legend()\n",
    "plt.grid()\n",
    "plt.show()\n"
   ]
  },
  {
   "cell_type": "markdown",
   "id": "4612afdc-8832-4271-8164-655fc6b51392",
   "metadata": {},
   "source": [
    "QUESTION 44. Train a Stacking Classifier with Random Forest and Logistic Regression and compare accuracy"
   ]
  },
  {
   "cell_type": "code",
   "execution_count": 121,
   "id": "6ee6e8de-2cf5-4588-99e7-abf7e9dd3da9",
   "metadata": {},
   "outputs": [
    {
     "name": "stdout",
     "output_type": "stream",
     "text": [
      "Stacking Classifier Accuracy: 1.00\n",
      "Random_forest Accuracy: 1.00\n",
      "Logistic Accuracy: 1.00\n"
     ]
    }
   ],
   "source": [
    "from sklearn.ensemble import StackingClassifier\n",
    "from sklearn.ensemble import RandomForestClassifier\n",
    "from sklearn.linear_model import LogisticRegression\n",
    "from sklearn.model_selection import train_test_split\n",
    "from sklearn.datasets import load_iris\n",
    "from sklearn.metrics import accuracy_score\n",
    "\n",
    "# Load dataset\n",
    "iris = load_iris()\n",
    "X, y = iris.data, iris.target\n",
    "\n",
    "# Split dataset into training and testing sets\n",
    "X_train, X_test, y_train, y_test = train_test_split(X, y, test_size=0.2, random_state=42)\n",
    "\n",
    "# Define base estimators\n",
    "base_estimators = [\n",
    "    ('random_forest', RandomForestClassifier(n_estimators=100, random_state=42)),\n",
    "    ('logistic', LogisticRegression(max_iter=500))\n",
    "]\n",
    "\n",
    "# Create Stacking Classifier\n",
    "stacking_model = StackingClassifier(estimators=base_estimators, final_estimator=LogisticRegression())\n",
    "\n",
    "# Train the stacking model\n",
    "stacking_model.fit(X_train, y_train)\n",
    "\n",
    "# Make predictions\n",
    "y_pred_stacking = stacking_model.predict(X_test)\n",
    "\n",
    "# Calculate accuracy\n",
    "accuracy_stacking = accuracy_score(y_test, y_pred_stacking)\n",
    "print(f\"Stacking Classifier Accuracy: {accuracy_stacking:.2f}\")\n",
    "\n",
    "# Compare with individual models\n",
    "for name, model in base_estimators:\n",
    "    model.fit(X_train, y_train)\n",
    "    y_pred = model.predict(X_test)\n",
    "    accuracy = accuracy_score(y_test, y_pred)\n",
    "    print(f\"{name.capitalize()} Accuracy: {accuracy:.2f}\")\n"
   ]
  },
  {
   "cell_type": "markdown",
   "id": "5e2bc302-982b-4b5e-8cce-7b0bd8b6527a",
   "metadata": {},
   "source": [
    "QUESTION 45.  Train a Bagging Regressor with different levels of bootstrap samples and compare performance"
   ]
  },
  {
   "cell_type": "code",
   "execution_count": 126,
   "id": "128302ac-2c22-48de-927e-be85e4245063",
   "metadata": {},
   "outputs": [
    {
     "name": "stdout",
     "output_type": "stream",
     "text": [
      "Bagging Regressor with 0.5 bootstrap samples - MSE: 870.7287\n",
      "Bagging Regressor with 0.7 bootstrap samples - MSE: 798.0956\n",
      "Bagging Regressor with 1.0 bootstrap samples - MSE: 877.9337\n",
      "Baseline Decision Tree Regressor - MSE: 2397.5945\n"
     ]
    },
    {
     "data": {
      "image/png": "[encoded data removed]",
      "text/plain": [
       "<Figure size 800x500 with 1 Axes>"
      ]
     },
     "metadata": {},
     "output_type": "display_data"
    }
   ],
   "source": [
    "from sklearn.ensemble import BaggingRegressor\n",
    "from sklearn.tree import DecisionTreeRegressor\n",
    "from sklearn.model_selection import train_test_split\n",
    "from sklearn.datasets import make_regression\n",
    "from sklearn.metrics import mean_squared_error\n",
    "import matplotlib.pyplot as plt\n",
    "\n",
    "# Generate synthetic regression dataset\n",
    "X, y = make_regression(n_samples=500, n_features=5, noise=0.3, random_state=42)\n",
    "\n",
    "# Split dataset into training and testing sets\n",
    "X_train, X_test, y_train, y_test = train_test_split(X, y, test_size=0.2, random_state=42)\n",
    "\n",
    "# Define different bootstrap sample sizes\n",
    "bootstrap_sizes = [0.5, 0.7, 1.0]\n",
    "mse_scores = []\n",
    "\n",
    "# Train Bagging Regressor with different bootstrap sample fractions\n",
    "for bootstrap_fraction in bootstrap_sizes:\n",
    "    bagging_regressor = BaggingRegressor(\n",
    "        estimator=DecisionTreeRegressor(),  # use 'estimator' (not 'base_estimator') in new versions\n",
    "        n_estimators=50,\n",
    "        max_samples=bootstrap_fraction,\n",
    "        random_state=42\n",
    "    )\n",
    "    bagging_regressor.fit(X_train, y_train)\n",
    "    y_pred = bagging_regressor.predict(X_test)\n",
    "    mse = mean_squared_error(y_test, y_pred)\n",
    "    mse_scores.append(mse)\n",
    "    print(f\"Bagging Regressor with {bootstrap_fraction:.1f} bootstrap samples - MSE: {mse:.4f}\")\n",
    "\n",
    "# Baseline: Single Decision Tree Regressor\n",
    "baseline_model = DecisionTreeRegressor()\n",
    "baseline_model.fit(X_train, y_train)\n",
    "baseline_pred = baseline_model.predict(X_test)\n",
    "baseline_mse = mean_squared_error(y_test, baseline_pred)\n",
    "print(f\"Baseline Decision Tree Regressor - MSE: {baseline_mse:.4f}\")\n",
    "\n",
    "# Plot performance comparison\n",
    "plt.figure(figsize=(8, 5))\n",
    "plt.plot(bootstrap_sizes, mse_scores, marker='o', linestyle='dashed', color='blue', label='Bagging Regressor')\n",
    "plt.axhline(y=baseline_mse, color='red', linestyle='--', label='Baseline Decision Tree')\n",
    "plt.xlabel(\"Bootstrap Sample Fraction\")\n",
    "plt.ylabel(\"Mean Squared Error (MSE)\")\n",
    "plt.title(\"Bagging Regressor: Effect of Bootstrap Sample Fraction\")\n",
    "plt.legend()\n",
    "plt.grid(True)\n",
    "plt.show()\n"
   ]
  },
  {
   "cell_type": "code",
   "execution_count": null,
   "id": "74b70abb-51ad-4218-aae7-1595584a3f76",
   "metadata": {},
   "outputs": [],
   "source": []
  }
 ],
 "metadata": {
  "kernelspec": {
   "display_name": "Python 3 (ipykernel)",
   "language": "python",
   "name": "python3"
  },
  "language_info": {
   "codemirror_mode": {
    "name": "ipython",
    "version": 3
   },
   "file_extension": ".py",
   "mimetype": "text/x-python",
   "name": "python",
   "nbconvert_exporter": "python",
   "pygments_lexer": "ipython3",
   "version": "3.12.4"
  }
 },
 "nbformat": 4,
 "nbformat_minor": 5
}
