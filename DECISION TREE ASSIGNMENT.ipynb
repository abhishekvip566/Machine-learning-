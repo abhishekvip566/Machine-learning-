{
 "cells": [
  {
   "cell_type": "markdown",
   "id": "3c31c6d3-5504-4002-afdb-ec17efe96c15",
   "metadata": {},
   "source": [
    "DECISION TREE ASSIGNMENT QUESTIONS :"
   ]
  },
  {
   "cell_type": "markdown",
   "id": "8a26b449-715b-46cd-942f-0e37382752f1",
   "metadata": {},
   "source": [
    "THEORATICAL :"
   ]
  },
  {
   "cell_type": "markdown",
   "id": "293b0164-13dd-4307-a1f1-e94bbc5c6734",
   "metadata": {},
   "source": [
    "QUESTION 1. What is a Decision Tree, and how does it work ?"
   ]
  },
  {
   "cell_type": "markdown",
   "id": "cc43fb0a-0c78-43e1-b6e9-bb1f47bc3ce2",
   "metadata": {},
   "source": [
    "A Decision Tree is a popular supervised machine learning algorithm used for both classification and regression tasks. It is essentially a tree-like structure where decisions are made by answering a series of yes/no questions, leading to a final prediction or classification.\n",
    "\n",
    "How It Works:\n",
    "\n",
    "1. Root Node: The starting point of the tree, representing the entire dataset.\n",
    "\n",
    "2. Splitting: The dataset is split into different branches based on specific conditions or attributes.\n",
    "\n",
    "3. Internal Nodes: Each internal node represents a decision based on an attribute that further divides the data.\n",
    "\n",
    "4. Leaf Nodes: The final nodes where no further division occurs—these represent the predicted outcome.\n",
    "\n",
    "5. Decision Path: By following the branches from the root to a leaf node, the model arrives at a decision."
   ]
  },
  {
   "cell_type": "markdown",
   "id": "a0868e40-9104-45ab-bc29-53feaa9fa145",
   "metadata": {},
   "source": [
    "QUESTION 2.  What are impurity measures in Decision Trees ?"
   ]
  },
  {
   "cell_type": "markdown",
   "id": "1f7ae267-c075-4e66-86e6-9412680b63b6",
   "metadata": {},
   "source": [
    "Impurity measures in Decision Trees help determine how well a node divides the data. They quantify the uncertainty or disorder within a set of samples, influencing how the tree selects the best splits.\n",
    "\n",
    "Common Impurity Measures:\n",
    "\n",
    "1. Gini Index: Measures how \"mixed\" a node is. Lower values indicate better splits.\n",
    "\n",
    "2. Entropy (Used in Information Gain): Measures uncertainty in a node.\n",
    "\n",
    "3. Variance Reduction: Used for regression trees.\n",
    "\n",
    "4. Misclassification Error: Another impurity measure, but less commonly used."
   ]
  },
  {
   "cell_type": "markdown",
   "id": "cede6aec-df20-4796-a779-f4b472c7307e",
   "metadata": {},
   "source": [
    "QUESTION 3. What is the mathematical formula for Gini Impurity ?"
   ]
  },
  {
   "cell_type": "markdown",
   "id": "58ad22ab-fbba-4899-a3b3-3534e3259d62",
   "metadata": {},
   "source": [
    "The Gini Impurity quantifies how mixed the classes are within a node in a Decision Tree. Lower values indicate a purer node, meaning a better split.\n",
    "\n",
    "Mathematical Formula:𝐺𝑖𝑛𝑖=1−(summation from 𝑖=1 to i=𝐶)𝑝i^2\n",
    "\n",
    "Where:\n",
    "\n",
    "𝐶 is the total number of classes.\n",
    "\n",
    "𝑝𝑖 is the probability of class \n",
    "𝑖 in the given node."
   ]
  },
  {
   "cell_type": "markdown",
   "id": "758605c5-35e2-4e61-9f5b-dc81a91129b6",
   "metadata": {},
   "source": [
    "QUESTION 4.  What is the mathematical formula for Entropy ?"
   ]
  },
  {
   "cell_type": "markdown",
   "id": "129fcd00-1154-42fd-93bb-3c782dae78f0",
   "metadata": {},
   "source": [
    "The Entropy measure quantifies the uncertainty or disorder within a node in a Decision Tree. It helps determine how informative a feature split is.\n",
    "\n",
    "Mathematical Formula:𝐸𝑛𝑡𝑟𝑜𝑝𝑦=−(summation from i=1 to i=c)𝑝𝑖log⁡2(𝑝𝑖)\n",
    "\n",
    "Where:\n",
    "𝐶 is the total number of classes.\n",
    "𝑝𝑖 is the probability of class 𝑖 in the given node.\n",
    "log⁡2(𝑝𝑖) ensures a base-2 logarithm is used."
   ]
  },
  {
   "cell_type": "markdown",
   "id": "7c1dd810-bc9a-4517-aac8-9ffc6f842270",
   "metadata": {},
   "source": [
    "QUESTION 5.  What is Information Gain, and how is it used in Decision Trees ?"
   ]
  },
  {
   "cell_type": "markdown",
   "id": "ef0ca650-49c8-43ee-8e5e-1ba01d589efb",
   "metadata": {},
   "source": [
    "Information Gain is a key metric used in Decision Trees to determine the effectiveness of a feature in splitting the dataset. It measures the reduction in uncertainty (or entropy) after a split.\n",
    "Mathematical Formula:\n",
    "𝐼G = 𝐸𝑛𝑡𝑟𝑜𝑝𝑦(𝑃𝑎𝑟𝑒𝑛𝑡)−∑(𝑁𝑐ℎ𝑖𝑙𝑑 / 𝑁𝑝𝑎𝑟𝑒𝑛𝑡×𝐸𝑛𝑡𝑟𝑜𝑝𝑦(𝐶ℎ𝑖𝑙𝑑))\n",
    "\n",
    "Where:\n",
    "\n",
    "Entropy(Parent) represents the disorder in the original dataset.\n",
    "\n",
    "Entropy(Child) represents the disorder after splitting on a feature.\n",
    "\n",
    "𝑁𝑐ℎ𝑖𝑙𝑑𝑁 / P𝑎𝑟𝑒𝑛𝑡 is the proportion of samples in each child node."
   ]
  },
  {
   "cell_type": "markdown",
   "id": "b5c38125-9055-47a9-8d5b-e4c6991b5c29",
   "metadata": {},
   "source": [
    "QUESTION 6. What is the difference between Gini Impurity and Entropy ?"
   ]
  },
  {
   "cell_type": "markdown",
   "id": "1d5760b8-3d1a-4b8d-8730-933baa012988",
   "metadata": {},
   "source": [
    "Both Gini Impurity and Entropy are used in Decision Trees to measure the disorder within a node and determine the best feature splits. However, they differ in how they calculate impurity.\n",
    "\n",
    "Comparison:\n",
    "\n",
    "1. Mathematical Complexity:\n",
    "\n",
    "Gini Impurity is easier to compute and typically faster.\n",
    "\n",
    "Entropy involves logarithmic calculations, making it slightly more computationally expensive.\n",
    "\n",
    "2. Range & Values:\n",
    "\n",
    "Gini ranges from 0 (pure) to 0.5 (mixed).\n",
    "\n",
    "Entropy ranges from 0 (pure) to 1 (high disorder).\n",
    "\n",
    "3. Decision Tree Split Preference:\n",
    "   \n",
    "\n",
    "If using Gini, the algorithm favors splits that put a majority of samples into one class.\n",
    "\n",
    "If using Entropy, it accounts for finer variations in class distribution.\n",
    "\n"
   ]
  },
  {
   "cell_type": "markdown",
   "id": "6f02bc28-4463-492c-8a65-3eae10129696",
   "metadata": {},
   "source": [
    "QUESTION 7.  What is the mathematical explanation behind Decision Trees ?"
   ]
  },
  {
   "cell_type": "markdown",
   "id": "06ce4313-85a4-4d0a-bb8b-7ab852def5a8",
   "metadata": {},
   "source": [
    "A Decision Tree is a mathematical model that represents decisions using a tree-like structure. It follows a recursive partitioning process based on impurity measures, selecting the best features to split the dataset and make predictions.\n",
    "\n",
    "Mathematical Foundations\n",
    "1. Splitting Criterion:\n",
    "\n",
    "The tree evaluates features using impurity measures:\n",
    "\n",
    "Gini Impurity:𝐺𝑖𝑛𝑖 = 1−∑𝑝𝑖^2\n",
    "\n",
    "Entropy (Information Gain):𝐸𝑛𝑡𝑟𝑜𝑦 = −∑𝑝𝑖log⁡2(𝑝𝑖)\n",
    "The attribute that reduces impurity the most is chosen for splitting.\n",
    "\n",
    "2. Recursive Partitioning:\n",
    "\n",
    "The tree applies splits recursively until:\n",
    "\n",
    "All data points in a node belong to one class (pure node).\n",
    "\n",
    "A stopping criterion (like max depth) is reached.\n",
    "\n",
    "3. Leaf Node Prediction:\n",
    "\n",
    "Classification: The most frequent class in the node.\n",
    "\n",
    "Regression: The average of the target values in that node."
   ]
  },
  {
   "cell_type": "markdown",
   "id": "618fd9af-f8c0-4ad0-be2b-40b39c9c625f",
   "metadata": {},
   "source": [
    "QUESTION 8.  What is Pre-Pruning in Decision Trees ?"
   ]
  },
  {
   "cell_type": "markdown",
   "id": "5b3388c4-43d4-4d8a-b529-ec85f48a0b24",
   "metadata": {},
   "source": [
    "Pre-Pruning in Decision Trees\n",
    "\n",
    "Pre-Pruning is a technique used to prevent overfitting by stopping the growth of a Decision Tree early, before it becomes too complex. It ensures that the tree does not grow unnecessarily deep, which helps maintain generalization and improves performance on unseen data.\n",
    "\n",
    "How Pre-Pruning Works\n",
    "During tree construction, pre-pruning applies certain stopping conditions to prevent further splitting. Common criteria include:\n",
    "1. Maximum Depth Constraint – Limits the tree depth to a predefined value.\n",
    "\n",
    "2. Minimum Samples per Leaf – Stops splits if a node has fewer than a set number of samples.\n",
    "\n",
    "3. Minimum Information Gain / Gini Reduction – Stops splitting if the impurity reduction is below a threshold.\n",
    "\n",
    "4. Maximum Number of Nodes – Limits the total number of nodes in the tree.\n",
    "\n",
    "5. Chi-Square Test – Stops splitting if the statistical significance of the split is too low.\n"
   ]
  },
  {
   "cell_type": "markdown",
   "id": "baa23ae6-195c-4af4-bd04-4ced74e697c3",
   "metadata": {},
   "source": [
    "QUESTION 9. What is Post-Pruning in Decision Trees ?"
   ]
  },
  {
   "cell_type": "markdown",
   "id": "ca67f12d-27c0-475c-b572-99e968780bee",
   "metadata": {},
   "source": [
    "Post-Pruning in Decision Trees\n",
    "\n",
    "Post-pruning is a technique used after a Decision Tree is fully grown to reduce overfitting and improve generalization. It involves removing unnecessary branches that do not provide significant predictive power.\n",
    "\n",
    "How Post-Pruning Works\n",
    "\n",
    "1. Grow the full tree: Initially, the Decision Tree is built to its maximum depth, capturing all possible splits.\n",
    "\n",
    "2. Evaluate Performance: The tree's accuracy is tested on a validation dataset.\n",
    "\n",
    "3. Prune less informative branches:\n",
    "\n",
    "Nodes that do not significantly improve accuracy are removed.\n",
    "\n",
    "If pruning a subtree improves validation accuracy, it is retained; otherwise, it's removed.\n",
    "\n",
    "4. Final Model Selection: The pruned tree is chosen for deployment."
   ]
  },
  {
   "cell_type": "markdown",
   "id": "a8e466d7-1530-4a69-b953-f3a5d4122151",
   "metadata": {},
   "source": [
    "QUESTION 10. What is the difference between Pre-Pruning and Post-Pruning ?"
   ]
  },
  {
   "cell_type": "markdown",
   "id": "5b11ff47-1844-47ed-b4a4-02230d8351a3",
   "metadata": {},
   "source": [
    "Pre-Pruning vs. Post-Pruning in Decision Trees\n",
    "Both Pre-Pruning and Post-Pruning are techniques used to prevent overfitting in Decision Trees by controlling their complexity. However, they differ in when and how they are applied.\n",
    "\n",
    "Pre-Pruning is useful when computational efficiency is critical.\n",
    "\n",
    "Post-Pruning works well when a full tree is needed before refining its structure."
   ]
  },
  {
   "cell_type": "markdown",
   "id": "f20d859d-58d1-4386-882c-1958d01a659f",
   "metadata": {},
   "source": [
    "QUESTION 11.  What is a Decision Tree Regressor ?"
   ]
  },
  {
   "cell_type": "markdown",
   "id": "8b1bbfde-18f7-4cbe-ab87-bec0fc197a67",
   "metadata": {},
   "source": [
    "A Decision Tree Regressor is a type of Decision Tree algorithm used for regression tasks, where the goal is to predict a continuous numerical value rather than class labels.\n",
    "\n",
    "\n",
    "How It Works:\n",
    "\n",
    "Splitting the Data:\n",
    "\n",
    "1. The dataset is split into subsets based on feature values to minimize prediction error.\n",
    "\n",
    "2. Instead of using classification impurity measures (like Gini or Entropy), variance reduction is used as the splitting criterion."
   ]
  },
  {
   "cell_type": "markdown",
   "id": "137e6f84-a5ed-48be-bd9e-497950bbbcd7",
   "metadata": {},
   "source": [
    "QUESTION 12.  What are the advantages and disadvantages of Decision Trees ?"
   ]
  },
  {
   "cell_type": "markdown",
   "id": "b28d86e2-1b7c-48ac-a333-776953dc16ad",
   "metadata": {},
   "source": [
    "Advantages and Disadvantages of Decision Trees\n",
    "\n",
    "Decision Trees are a powerful machine learning tool, but like any algorithm, they come with strengths and weaknesses.\n",
    "\n",
    "Advantages: \n",
    "\n",
    "1. Easy to Understand and Interpret – The tree structure is intuitive and visually interpretable.\n",
    "\n",
    "2. Handles Both Classification & Regression – Works for both types of tasks.\n",
    "\n",
    "3. No Need for Feature Scaling – Unlike algorithms like SVM or KNN, Decision Trees don’t require normalization.\n",
    "\n",
    "4. Captures Non-Linear Relationships – Can model complex interactions between features without requiring specific assumptions.\n",
    "\n",
    "5. Works with Categorical & Numerical Data – Can handle different types of data seamlessly. \n",
    "\n",
    "\n",
    "\n",
    "Disadvantages \n",
    "\n",
    "1. Prone to Overfitting – If the tree grows too deep, it memorizes training data rather than generalizing.\n",
    "\n",
    "2. Sensitive to Noisy Data – Small variations can drastically change the structure of the tree.\n",
    "\n",
    "3. Biased Towards Dominant Classes – If a class has significantly more samples, the tree tends to favor it.\n",
    "\n",
    "4. Instability – Slight changes in the dataset can create a completely different tree structure.\n",
    "\n",
    "5. Less Effective for Large Datasets – Can become computationally expensive when handling very large datasets with many features.\n"
   ]
  },
  {
   "cell_type": "markdown",
   "id": "40fcc023-5ff7-4a8d-b393-155ceeb58884",
   "metadata": {},
   "source": [
    "QUESTION 13.  How does a Decision Tree handle missing values ?"
   ]
  },
  {
   "cell_type": "markdown",
   "id": "926dbc72-00ca-43ba-8e36-40190c6cc351",
   "metadata": {},
   "source": [
    "Handling Missing Values in Decision Trees\n",
    "\n",
    "Decision Trees can handle missing values efficiently using various strategies, depending on the implementation and nature of the dataset.\n",
    "\n",
    "Common Approaches:\n",
    "    \n",
    "1. Ignore Missing Values During Splitting\n",
    "\n",
    "Some Decision Tree algorithms, like CART, can skip missing values while choosing the best split.\n",
    "\n",
    "The split is based only on available values, and missing values are handled during prediction.\n",
    "\n",
    "2. Assign to Most Probable Class (for Classification)\n",
    "\n",
    "If a feature value is missing, the sample can be assigned to the majority class at that node.\n",
    "\n",
    "3. Use Mean/Median/Mode for Imputation\n",
    "\n",
    "Numerical features: Replace missing values with the mean or median.\n",
    "\n",
    "Categorical features: Replace missing values with the mode (most frequent value)"
   ]
  },
  {
   "cell_type": "markdown",
   "id": "e60dd97f-4812-41d0-96a0-fb2e52e59fc9",
   "metadata": {},
   "source": [
    "QUESTION 14. How does a Decision Tree handle categorical features ?"
   ]
  },
  {
   "cell_type": "markdown",
   "id": "9dbda56c-f4cf-4354-bf82-596e365259b2",
   "metadata": {},
   "source": [
    "Handling Categorical Features in Decision Trees\n",
    "\n",
    "\n",
    "Decision Trees can efficiently work with categorical features by treating them in different ways during the splitting process. Here are the key methods:\n",
    "\n",
    "1. One-Hot Encoding (Binary Split for Categories)\n",
    "Each categorical value is converted into a binary (0/1) feature.\n",
    "\n",
    "Works well for nominal (unordered) categories.\n",
    "\n",
    "Example: If \"Color\" has values Red, Blue, Green, then it becomes three binary columns:\n",
    "Red=[1,0,0],Blue=[0,1,0],Green=[0,0,1]\n",
    "\n",
    "\n",
    "2. Label Encoding (Ordinal Categories)\n",
    "Converts categorical values into numerical labels.\n",
    "\n",
    "Works well when categories have an order (e.g., Low, Medium, High → 0, 1, 2).\n",
    "\n",
    "Example: \"Education Level\" → High School = 1, College = 2, Graduate = 3.\n",
    "\n",
    "\n",
    "3. Decision Tree-Based Splitting (Direct Handling)\n",
    "\n",
    "Some Decision Tree implementations (like CART) directly handle categorical values without encoding.\n",
    "\n",
    "Splits the feature into different branches based on unique values.\n",
    "\n",
    "Example: \"Weather\" → {Sunny, Rainy, Cloudy} → Separate decision branches."
   ]
  },
  {
   "cell_type": "markdown",
   "id": "243b29e4-f244-4a8a-999f-34ceb8e01571",
   "metadata": {},
   "source": [
    "QUESTION 15. What are some real-world applications of Decision Trees?"
   ]
  },
  {
   "cell_type": "markdown",
   "id": "189e8461-36dd-4203-b1d6-acd33309496a",
   "metadata": {},
   "source": [
    "Real-World Applications of Decision Trees\n",
    "Decision Trees are widely used across various industries due to their interpretability, efficiency, and ability to handle both classification and regression problems. Here are some practical applications:\n",
    "\n",
    "1. Healthcare \n",
    "Disease Diagnosis – Used to predict diseases based on symptoms (e.g., diabetes, heart disease),  Medical Treatment Plans – Helps in deciding the best treatment approach based on patient history.\n",
    "\n",
    "\n",
    "2. Finance & Banking \n",
    " Credit Risk Assessment – Evaluates if a loan applicant is likely to default, Fraud Detection – Identifies suspicious transactions based on patterns in financial data , Stock Market Prediction – Forecasts stock prices based on historical trends.\n",
    "\n",
    "\n",
    "3.Education \n",
    "Student Performance Prediction – Predicts academic success based on attendance and study habits , Automated Grading – Assists in evaluating written responses."
   ]
  },
  {
   "cell_type": "markdown",
   "id": "a80fc677-5753-42a9-ad45-d8029347b3b1",
   "metadata": {},
   "source": [
    "PRACTICAL "
   ]
  },
  {
   "cell_type": "markdown",
   "id": "c4f50b0c-d358-477b-987b-45d3ba1d2076",
   "metadata": {},
   "source": [
    "QUESTION 16. Write a Python program to train a Decision Tree Classifier on the Iris dataset and print the model accuracy ?"
   ]
  },
  {
   "cell_type": "code",
   "execution_count": 96,
   "id": "9075dddc-41c2-4943-b2e9-1b054dbbe3b2",
   "metadata": {},
   "outputs": [
    {
     "name": "stdout",
     "output_type": "stream",
     "text": [
      "Model Accuracy: 1.00\n"
     ]
    }
   ],
   "source": [
    "# Import necessary libraries\n",
    "from sklearn.datasets import load_iris\n",
    "from sklearn.model_selection import train_test_split\n",
    "from sklearn.tree import DecisionTreeClassifier\n",
    "from sklearn.metrics import accuracy_score\n",
    "\n",
    "# Load the Iris dataset\n",
    "iris = load_iris()\n",
    "X, y = iris.data, iris.target\n",
    "\n",
    "# Split dataset into training and testing sets (80% training, 20% testing)\n",
    "X_train, X_test, y_train, y_test = train_test_split(X, y, test_size=0.2, random_state=42)\n",
    "\n",
    "# Create and train a Decision Tree Classifier\n",
    "model = DecisionTreeClassifier()\n",
    "model.fit(X_train, y_train)\n",
    "\n",
    "# Make predictions on the test set\n",
    "y_pred = model.predict(X_test)\n",
    "\n",
    "# Calculate and print model accuracy\n",
    "accuracy = accuracy_score(y_test, y_pred)\n",
    "print(f\"Model Accuracy: {accuracy:.2f}\")\n"
   ]
  },
  {
   "cell_type": "markdown",
   "id": "4adc1da8-1aa3-49aa-9b50-1f101362b2b6",
   "metadata": {},
   "source": [
    "QUESTION 17. Write a Python program to train a Decision Tree Classifier using Gini Impurity as the criterion and print the \n",
    "feature importances "
   ]
  },
  {
   "cell_type": "code",
   "execution_count": 99,
   "id": "49c39c29-ed76-41c5-8279-0a53a8620b0f",
   "metadata": {},
   "outputs": [
    {
     "name": "stdout",
     "output_type": "stream",
     "text": [
      "Feature Importances:\n",
      "sepal length (cm): 0.0000\n",
      "sepal width (cm): 0.0167\n",
      "petal length (cm): 0.9061\n",
      "petal width (cm): 0.0772\n"
     ]
    }
   ],
   "source": [
    "# Import required libraries\n",
    "from sklearn.datasets import load_iris\n",
    "from sklearn.model_selection import train_test_split\n",
    "from sklearn.tree import DecisionTreeClassifier\n",
    "\n",
    "# Load the Iris dataset\n",
    "iris = load_iris()\n",
    "X, y = iris.data, iris.target\n",
    "\n",
    "# Split dataset into training and testing sets (80% training, 20% testing)\n",
    "X_train, X_test, y_train, y_test = train_test_split(X, y, test_size=0.2, random_state=42)\n",
    "\n",
    "# Create and train a Decision Tree Classifier using Gini impurity\n",
    "model = DecisionTreeClassifier(criterion=\"gini\", random_state=42)\n",
    "model.fit(X_train, y_train)\n",
    "\n",
    "# Print feature importances\n",
    "print(\"Feature Importances:\")\n",
    "for feature, importance in zip(iris.feature_names, model.feature_importances_):\n",
    "    print(f\"{feature}: {importance:.4f}\")\n"
   ]
  },
  {
   "cell_type": "markdown",
   "id": "a64c3f99-9126-46a3-95eb-5da84ee00724",
   "metadata": {},
   "source": [
    "QUESTION 18. Write a Python program to train a Decision Tree Classifier using Entropy as the splitting criterion and print the \n",
    "model accuracy. "
   ]
  },
  {
   "cell_type": "code",
   "execution_count": 102,
   "id": "d6aaf395-3f0a-4d44-90b9-84a447d78dd2",
   "metadata": {},
   "outputs": [
    {
     "name": "stdout",
     "output_type": "stream",
     "text": [
      "Model Accuracy: 1.00\n"
     ]
    }
   ],
   "source": [
    "# Import necessary libraries\n",
    "from sklearn.datasets import load_iris\n",
    "from sklearn.model_selection import train_test_split\n",
    "from sklearn.tree import DecisionTreeClassifier\n",
    "from sklearn.metrics import accuracy_score\n",
    "\n",
    "# Load the Iris dataset\n",
    "iris = load_iris()\n",
    "X, y = iris.data, iris.target\n",
    "\n",
    "# Split dataset into training and testing sets (80% training, 20% testing)\n",
    "X_train, X_test, y_train, y_test = train_test_split(X, y, test_size=0.2, random_state=42)\n",
    "\n",
    "# Create and train a Decision Tree Classifier using Entropy as the splitting criterion\n",
    "model = DecisionTreeClassifier(criterion=\"entropy\", random_state=42)\n",
    "model.fit(X_train, y_train)\n",
    "\n",
    "# Make predictions on the test set\n",
    "y_pred = model.predict(X_test)\n",
    "\n",
    "# Calculate and print model accuracy\n",
    "accuracy = accuracy_score(y_test, y_pred)\n",
    "print(f\"Model Accuracy: {accuracy:.2f}\")\n"
   ]
  },
  {
   "cell_type": "markdown",
   "id": "67356e76-edb1-4dab-8254-fe2d768ef9ce",
   "metadata": {},
   "source": [
    "QUESTION 19.  Write a Python program to train a Decision Tree Regressor on a housing dataset and evaluate using Mean \n",
    "Squared Error (MSE)."
   ]
  },
  {
   "cell_type": "code",
   "execution_count": 105,
   "id": "7fece6b8-319d-4346-b256-959dd4a3e3f5",
   "metadata": {},
   "outputs": [
    {
     "name": "stdout",
     "output_type": "stream",
     "text": [
      "Mean Squared Error (MSE): 0.4952\n"
     ]
    }
   ],
   "source": [
    "# Import necessary libraries\n",
    "from sklearn.datasets import fetch_california_housing\n",
    "from sklearn.model_selection import train_test_split\n",
    "from sklearn.tree import DecisionTreeRegressor\n",
    "from sklearn.metrics import mean_squared_error\n",
    "\n",
    "# Load the California housing dataset\n",
    "housing = fetch_california_housing()\n",
    "X, y = housing.data, housing.target\n",
    "\n",
    "# Split dataset into training (80%) and testing (20%) sets\n",
    "X_train, X_test, y_train, y_test = train_test_split(X, y, test_size=0.2, random_state=42)\n",
    "\n",
    "# Create and train the Decision Tree Regressor\n",
    "model = DecisionTreeRegressor(random_state=42)\n",
    "model.fit(X_train, y_train)\n",
    "\n",
    "# Make predictions on the test set\n",
    "y_pred = model.predict(X_test)\n",
    "\n",
    "# Calculate and print Mean Squared Error (MSE)\n",
    "mse = mean_squared_error(y_test, y_pred)\n",
    "print(f\"Mean Squared Error (MSE): {mse:.4f}\")\n"
   ]
  },
  {
   "cell_type": "markdown",
   "id": "9354b86e-0ad3-4bb5-a379-dc63d1255da0",
   "metadata": {},
   "source": [
    "QUESTION 20.  Write a Python program to train a Decision Tree Classifier and visualize the tree using graphviz."
   ]
  },
  {
   "cell_type": "code",
   "execution_count": 108,
   "id": "47a0dc67-2f45-4216-b657-d9f5faceabf4",
   "metadata": {},
   "outputs": [
    {
     "ename": "ModuleNotFoundError",
     "evalue": "No module named 'graphviz'",
     "output_type": "error",
     "traceback": [
      "\u001b[1;31m---------------------------------------------------------------------------\u001b[0m",
      "\u001b[1;31mModuleNotFoundError\u001b[0m                       Traceback (most recent call last)",
      "Cell \u001b[1;32mIn[108], line 5\u001b[0m\n\u001b[0;32m      3\u001b[0m \u001b[38;5;28;01mfrom\u001b[39;00m \u001b[38;5;21;01msklearn\u001b[39;00m\u001b[38;5;21;01m.\u001b[39;00m\u001b[38;5;21;01mmodel_selection\u001b[39;00m \u001b[38;5;28;01mimport\u001b[39;00m train_test_split\n\u001b[0;32m      4\u001b[0m \u001b[38;5;28;01mfrom\u001b[39;00m \u001b[38;5;21;01msklearn\u001b[39;00m\u001b[38;5;21;01m.\u001b[39;00m\u001b[38;5;21;01mtree\u001b[39;00m \u001b[38;5;28;01mimport\u001b[39;00m DecisionTreeClassifier, export_graphviz\n\u001b[1;32m----> 5\u001b[0m \u001b[38;5;28;01mimport\u001b[39;00m \u001b[38;5;21;01mgraphviz\u001b[39;00m\n\u001b[0;32m      7\u001b[0m \u001b[38;5;66;03m# Load the Iris dataset\u001b[39;00m\n\u001b[0;32m      8\u001b[0m iris \u001b[38;5;241m=\u001b[39m load_iris()\n",
      "\u001b[1;31mModuleNotFoundError\u001b[0m: No module named 'graphviz'"
     ]
    }
   ],
   "source": [
    "# Import necessary libraries\n",
    "from sklearn.datasets import load_iris\n",
    "from sklearn.model_selection import train_test_split\n",
    "from sklearn.tree import DecisionTreeClassifier, export_graphviz\n",
    "import graphviz\n",
    "\n",
    "# Load the Iris dataset\n",
    "iris = load_iris()\n",
    "X, y = iris.data, iris.target\n",
    "\n",
    "# Split dataset into training and testing sets (80% training, 20% testing)\n",
    "X_train, X_test, y_train, y_test = train_test_split(X, y, test_size=0.2, random_state=42)\n",
    "\n",
    "# Create and train the Decision Tree Classifier\n",
    "model = DecisionTreeClassifier(criterion=\"gini\", random_state=42)\n",
    "model.fit(X_train, y_train)\n",
    "\n",
    "# Export the tree structure to a DOT file\n",
    "dot_data = export_graphviz(model, out_file=None, \n",
    "                           feature_names=iris.feature_names, \n",
    "                           class_names=iris.target_names, \n",
    "                           filled=True, rounded=True, special_characters=True)\n",
    "\n",
    "# Visualize the decision tree using Graphviz\n",
    "graph = graphviz.Source(dot_data)\n",
    "graph.render(\"decision_tree\")  # Saves the tree visualization as a file\n",
    "graph.view()  # Opens the tree visualization\n",
    "\n",
    "print(\"Decision Tree trained and visualized using Graphviz!\")\n"
   ]
  },
  {
   "cell_type": "markdown",
   "id": "22d7ef8b-bc39-4426-b35d-6038655c9d76",
   "metadata": {},
   "source": [
    "QUESTION 21. Write a Python program to train a Decision Tree Classifier with a maximum depth of 3 and compare its \n",
    "accuracy with a fully grown tree ."
   ]
  },
  {
   "cell_type": "code",
   "execution_count": 111,
   "id": "a4618d6b-5bb7-4a3f-a694-7b484c7e2837",
   "metadata": {},
   "outputs": [
    {
     "name": "stdout",
     "output_type": "stream",
     "text": [
      "Accuracy of Decision Tree (Max Depth = 3): 1.00\n",
      "Accuracy of Fully Grown Decision Tree: 1.00\n"
     ]
    }
   ],
   "source": [
    "# Import necessary libraries\n",
    "from sklearn.datasets import load_iris\n",
    "from sklearn.model_selection import train_test_split\n",
    "from sklearn.tree import DecisionTreeClassifier\n",
    "from sklearn.metrics import accuracy_score\n",
    "\n",
    "# Load the Iris dataset\n",
    "iris = load_iris()\n",
    "X, y = iris.data, iris.target\n",
    "\n",
    "# Split dataset into training and testing sets (80% training, 20% testing)\n",
    "X_train, X_test, y_train, y_test = train_test_split(X, y, test_size=0.2, random_state=42)\n",
    "\n",
    "# Train Decision Tree with a maximum depth of 3\n",
    "model_depth_3 = DecisionTreeClassifier(max_depth=3, random_state=42)\n",
    "model_depth_3.fit(X_train, y_train)\n",
    "\n",
    "# Train a fully grown Decision Tree (no depth restriction)\n",
    "model_full = DecisionTreeClassifier(random_state=42)\n",
    "model_full.fit(X_train, y_train)\n",
    "\n",
    "# Make predictions\n",
    "y_pred_depth_3 = model_depth_3.predict(X_test)\n",
    "y_pred_full = model_full.predict(X_test)\n",
    "\n",
    "# Calculate accuracy\n",
    "accuracy_depth_3 = accuracy_score(y_test, y_pred_depth_3)\n",
    "accuracy_full = accuracy_score(y_test, y_pred_full)\n",
    "\n",
    "# Print accuracy comparison\n",
    "print(f\"Accuracy of Decision Tree (Max Depth = 3): {accuracy_depth_3:.2f}\")\n",
    "print(f\"Accuracy of Fully Grown Decision Tree: {accuracy_full:.2f}\")\n"
   ]
  },
  {
   "cell_type": "markdown",
   "id": "0a962eb0-ade7-424f-b785-fd57594e655c",
   "metadata": {},
   "source": [
    "QUESTION 22. Write a Python program to train a Decision Tree Classifier using min_samples_split=5 and compare its \n",
    "accuracy with a default tree. "
   ]
  },
  {
   "cell_type": "code",
   "execution_count": 114,
   "id": "abfea963-f6e4-47ff-8902-545b39b639ed",
   "metadata": {},
   "outputs": [
    {
     "name": "stdout",
     "output_type": "stream",
     "text": [
      "Accuracy of Decision Tree (min_samples_split=5): 1.00\n",
      "Accuracy of Default Decision Tree: 1.00\n"
     ]
    }
   ],
   "source": [
    "# Import necessary libraries\n",
    "from sklearn.datasets import load_iris\n",
    "from sklearn.model_selection import train_test_split\n",
    "from sklearn.tree import DecisionTreeClassifier\n",
    "from sklearn.metrics import accuracy_score\n",
    "\n",
    "# Load the Iris dataset\n",
    "iris = load_iris()\n",
    "X, y = iris.data, iris.target\n",
    "\n",
    "# Split dataset into training and testing sets (80% training, 20% testing)\n",
    "X_train, X_test, y_train, y_test = train_test_split(X, y, test_size=0.2, random_state=42)\n",
    "\n",
    "# Train Decision Tree with min_samples_split=5\n",
    "model_split_5 = DecisionTreeClassifier(min_samples_split=5, random_state=42)\n",
    "model_split_5.fit(X_train, y_train)\n",
    "\n",
    "# Train a default Decision Tree\n",
    "model_default = DecisionTreeClassifier(random_state=42)\n",
    "model_default.fit(X_train, y_train)\n",
    "\n",
    "# Make predictions\n",
    "y_pred_split_5 = model_split_5.predict(X_test)\n",
    "y_pred_default = model_default.predict(X_test)\n",
    "\n",
    "# Calculate accuracy\n",
    "accuracy_split_5 = accuracy_score(y_test, y_pred_split_5)\n",
    "accuracy_default = accuracy_score(y_test, y_pred_default)\n",
    "\n",
    "# Print accuracy comparison\n",
    "print(f\"Accuracy of Decision Tree (min_samples_split=5): {accuracy_split_5:.2f}\")\n",
    "print(f\"Accuracy of Default Decision Tree: {accuracy_default:.2f}\")\n"
   ]
  },
  {
   "cell_type": "markdown",
   "id": "68a04bf0-e123-4916-8a72-f46df8e42198",
   "metadata": {},
   "source": [
    "QUESTION 23. Write a Python program to apply feature scaling before training a Decision Tree Classifier and compare its \n",
    "accuracy with unscaled data."
   ]
  },
  {
   "cell_type": "code",
   "execution_count": 117,
   "id": "1619e7f0-4c9c-4ac2-87f9-a17ae7fb67fd",
   "metadata": {},
   "outputs": [
    {
     "name": "stdout",
     "output_type": "stream",
     "text": [
      "Accuracy of Decision Tree (Unscaled Data): 1.00\n",
      "Accuracy of Decision Tree (Scaled Data): 1.00\n"
     ]
    }
   ],
   "source": [
    "# Import necessary libraries\n",
    "from sklearn.datasets import load_iris\n",
    "from sklearn.model_selection import train_test_split\n",
    "from sklearn.tree import DecisionTreeClassifier\n",
    "from sklearn.preprocessing import StandardScaler\n",
    "from sklearn.metrics import accuracy_score\n",
    "\n",
    "# Load the Iris dataset\n",
    "iris = load_iris()\n",
    "X, y = iris.data, iris.target\n",
    "\n",
    "# Split dataset into training and testing sets (80% training, 20% testing)\n",
    "X_train, X_test, y_train, y_test = train_test_split(X, y, test_size=0.2, random_state=42)\n",
    "\n",
    "# Train Decision Tree on unscaled data\n",
    "model_unscaled = DecisionTreeClassifier(random_state=42)\n",
    "model_unscaled.fit(X_train, y_train)\n",
    "y_pred_unscaled = model_unscaled.predict(X_test)\n",
    "accuracy_unscaled = accuracy_score(y_test, y_pred_unscaled)\n",
    "\n",
    "# Apply feature scaling using StandardScaler\n",
    "scaler = StandardScaler()\n",
    "X_train_scaled = scaler.fit_transform(X_train)\n",
    "X_test_scaled = scaler.transform(X_test)\n",
    "\n",
    "# Train Decision Tree on scaled data\n",
    "model_scaled = DecisionTreeClassifier(random_state=42)\n",
    "model_scaled.fit(X_train_scaled, y_train)\n",
    "y_pred_scaled = model_scaled.predict(X_test_scaled)\n",
    "accuracy_scaled = accuracy_score(y_test, y_pred_scaled)\n",
    "\n",
    "# Print accuracy comparison\n",
    "print(f\"Accuracy of Decision Tree (Unscaled Data): {accuracy_unscaled:.2f}\")\n",
    "print(f\"Accuracy of Decision Tree (Scaled Data): {accuracy_scaled:.2f}\")\n"
   ]
  },
  {
   "cell_type": "markdown",
   "id": "35634654-90ac-4297-8fae-7f3f72554664",
   "metadata": {},
   "source": [
    "QUESTION 24. Write a Python program to train a Decision Tree Classifier using One-vs-Rest (OvR) strategy for multiclass \n",
    "classification."
   ]
  },
  {
   "cell_type": "code",
   "execution_count": 120,
   "id": "8b45937b-5ad5-4e98-9698-1048c40d67bb",
   "metadata": {},
   "outputs": [
    {
     "name": "stdout",
     "output_type": "stream",
     "text": [
      "Model Accuracy using One-vs-Rest: 1.00\n"
     ]
    }
   ],
   "source": [
    "# Import necessary libraries\n",
    "from sklearn.datasets import load_iris\n",
    "from sklearn.model_selection import train_test_split\n",
    "from sklearn.tree import DecisionTreeClassifier\n",
    "from sklearn.multiclass import OneVsRestClassifier\n",
    "from sklearn.metrics import accuracy_score\n",
    "\n",
    "# Load the Iris dataset\n",
    "iris = load_iris()\n",
    "X, y = iris.data, iris.target\n",
    "\n",
    "# Split dataset into training and testing sets (80% training, 20% testing)\n",
    "X_train, X_test, y_train, y_test = train_test_split(X, y, test_size=0.2, random_state=42)\n",
    "\n",
    "# Apply One-vs-Rest (OvR) strategy to Decision Tree Classifier\n",
    "model = OneVsRestClassifier(DecisionTreeClassifier(random_state=42))\n",
    "model.fit(X_train, y_train)\n",
    "\n",
    "# Make predictions\n",
    "y_pred = model.predict(X_test)\n",
    "\n",
    "# Calculate and print model accuracy\n",
    "accuracy = accuracy_score(y_test, y_pred)\n",
    "print(f\"Model Accuracy using One-vs-Rest: {accuracy:.2f}\")\n"
   ]
  },
  {
   "cell_type": "markdown",
   "id": "b8e8f733-b877-4fe3-a484-fdc59e8b4433",
   "metadata": {},
   "source": [
    "QUESTION 25. Write a Python program to train a Decision Tree Classifier and display the feature importance scores. "
   ]
  },
  {
   "cell_type": "code",
   "execution_count": 123,
   "id": "0bd1a617-e10b-40b6-a17a-2639319b2922",
   "metadata": {},
   "outputs": [
    {
     "name": "stdout",
     "output_type": "stream",
     "text": [
      "Feature Importance Scores:\n",
      "sepal length (cm): 0.0000\n",
      "sepal width (cm): 0.0167\n",
      "petal length (cm): 0.9061\n",
      "petal width (cm): 0.0772\n"
     ]
    }
   ],
   "source": [
    "# Import necessary libraries\n",
    "from sklearn.datasets import load_iris\n",
    "from sklearn.model_selection import train_test_split\n",
    "from sklearn.tree import DecisionTreeClassifier\n",
    "\n",
    "# Load the Iris dataset\n",
    "iris = load_iris()\n",
    "X, y = iris.data, iris.target\n",
    "\n",
    "# Split dataset into training and testing sets (80% training, 20% testing)\n",
    "X_train, X_test, y_train, y_test = train_test_split(X, y, test_size=0.2, random_state=42)\n",
    "\n",
    "# Train the Decision Tree Classifier\n",
    "model = DecisionTreeClassifier(random_state=42)\n",
    "model.fit(X_train, y_train)\n",
    "\n",
    "# Display feature importance scores\n",
    "print(\"Feature Importance Scores:\")\n",
    "for feature, importance in zip(iris.feature_names, model.feature_importances_):\n",
    "    print(f\"{feature}: {importance:.4f}\")\n"
   ]
  },
  {
   "cell_type": "markdown",
   "id": "b6dbc62c-861c-4244-b208-f54bf109531c",
   "metadata": {},
   "source": [
    "QUESTION 26.  Write a Python program to train a Decision Tree Regressor with max_depth=5 and compare its performance \n",
    "with an unrestricted tree."
   ]
  },
  {
   "cell_type": "code",
   "execution_count": 126,
   "id": "b31f49f7-22aa-456f-942e-c44991be7cfb",
   "metadata": {},
   "outputs": [
    {
     "name": "stdout",
     "output_type": "stream",
     "text": [
      "Mean Squared Error (MSE) - Decision Tree (max_depth=5): 0.5245\n",
      "Mean Squared Error (MSE) - Fully Grown Decision Tree: 0.4952\n"
     ]
    }
   ],
   "source": [
    "# Import necessary libraries\n",
    "from sklearn.datasets import fetch_california_housing\n",
    "from sklearn.model_selection import train_test_split\n",
    "from sklearn.tree import DecisionTreeRegressor\n",
    "from sklearn.metrics import mean_squared_error\n",
    "\n",
    "# Load the California housing dataset\n",
    "housing = fetch_california_housing()\n",
    "X, y = housing.data, housing.target\n",
    "\n",
    "# Split dataset into training (80%) and testing (20%) sets\n",
    "X_train, X_test, y_train, y_test = train_test_split(X, y, test_size=0.2, random_state=42)\n",
    "\n",
    "# Train Decision Tree Regressor with max_depth=5\n",
    "model_depth_5 = DecisionTreeRegressor(max_depth=5, random_state=42)\n",
    "model_depth_5.fit(X_train, y_train)\n",
    "\n",
    "# Train a fully grown Decision Tree (no depth restriction)\n",
    "model_full = DecisionTreeRegressor(random_state=42)\n",
    "model_full.fit(X_train, y_train)\n",
    "\n",
    "# Make predictions\n",
    "y_pred_depth_5 = model_depth_5.predict(X_test)\n",
    "y_pred_full = model_full.predict(X_test)\n",
    "\n",
    "# Calculate Mean Squared Error (MSE)\n",
    "mse_depth_5 = mean_squared_error(y_test, y_pred_depth_5)\n",
    "mse_full = mean_squared_error(y_test, y_pred_full)\n",
    "\n",
    "# Print performance comparison\n",
    "print(f\"Mean Squared Error (MSE) - Decision Tree (max_depth=5): {mse_depth_5:.4f}\")\n",
    "print(f\"Mean Squared Error (MSE) - Fully Grown Decision Tree: {mse_full:.4f}\")\n"
   ]
  },
  {
   "cell_type": "markdown",
   "id": "6fe826fc-b5e7-4256-ad49-54ed3e7443a2",
   "metadata": {},
   "source": [
    "QUESTION 27. Write a Python program to train a Decision Tree Classifier, apply Cost Complexity Pruning (CCP), and \n",
    "visualize its effect on accuracy."
   ]
  },
  {
   "cell_type": "code",
   "execution_count": 129,
   "id": "97338098-14fb-4deb-ac6e-e10a148e4da1",
   "metadata": {},
   "outputs": [
    {
     "data": {
      "image/png": "[encoded data removed]",
      "text/plain": [
       "<Figure size 1000x600 with 1 Axes>"
      ]
     },
     "metadata": {},
     "output_type": "display_data"
    },
    {
     "name": "stdout",
     "output_type": "stream",
     "text": [
      "Best alpha value for pruning: 0.0000\n"
     ]
    }
   ],
   "source": [
    "# Import necessary libraries\n",
    "import numpy as np\n",
    "import matplotlib.pyplot as plt\n",
    "from sklearn.datasets import load_iris\n",
    "from sklearn.model_selection import train_test_split\n",
    "from sklearn.tree import DecisionTreeClassifier\n",
    "from sklearn.metrics import accuracy_score\n",
    "\n",
    "# Load the Iris dataset\n",
    "iris = load_iris()\n",
    "X, y = iris.data, iris.target\n",
    "\n",
    "# Split dataset into training and testing sets (80% training, 20% testing)\n",
    "X_train, X_test, y_train, y_test = train_test_split(X, y, test_size=0.2, random_state=42)\n",
    "\n",
    "# Train an initial Decision Tree without pruning\n",
    "model = DecisionTreeClassifier(random_state=42)\n",
    "model.fit(X_train, y_train)\n",
    "\n",
    "# Get the cost complexity pruning path (CCP)\n",
    "ccp_path = model.cost_complexity_pruning_path(X_train, y_train)\n",
    "ccp_alphas, impurities = ccp_path.ccp_alphas, ccp_path.impurities\n",
    "\n",
    "# Train Decision Trees for each alpha and compute accuracy\n",
    "models = []\n",
    "train_acc = []\n",
    "test_acc = []\n",
    "\n",
    "for alpha in ccp_alphas:\n",
    "    pruned_tree = DecisionTreeClassifier(ccp_alpha=alpha, random_state=42)\n",
    "    pruned_tree.fit(X_train, y_train)\n",
    "    models.append(pruned_tree)\n",
    "    \n",
    "    # Evaluate accuracy on training and test data\n",
    "    train_acc.append(accuracy_score(y_train, pruned_tree.predict(X_train)))\n",
    "    test_acc.append(accuracy_score(y_test, pruned_tree.predict(X_test)))\n",
    "\n",
    "# Plot accuracy vs. alpha values\n",
    "plt.figure(figsize=(10, 6))\n",
    "plt.plot(ccp_alphas, train_acc, label=\"Training Accuracy\", marker=\"o\")\n",
    "plt.plot(ccp_alphas, test_acc, label=\"Testing Accuracy\", marker=\"o\")\n",
    "plt.xlabel(\"Cost Complexity Pruning Alpha (ccp_alpha)\")\n",
    "plt.ylabel(\"Accuracy\")\n",
    "plt.title(\"Effect of CCP on Decision Tree Accuracy\")\n",
    "plt.legend()\n",
    "plt.grid()\n",
    "plt.show()\n",
    "\n",
    "# Print best alpha value\n",
    "best_alpha = ccp_alphas[np.argmax(test_acc)]\n",
    "print(f\"Best alpha value for pruning: {best_alpha:.4f}\")\n"
   ]
  },
  {
   "cell_type": "markdown",
   "id": "faf96e5c-7ab0-4a3c-a4dc-dcd4cd6c9bea",
   "metadata": {},
   "source": [
    "QUESTION 28. Write a Python program to train a Decision Tree Classifier and evaluate its performance using Precision, \n",
    "Recall, and F1-Score."
   ]
  },
  {
   "cell_type": "code",
   "execution_count": 132,
   "id": "38836e30-1490-4fc0-9c41-784a51c63c57",
   "metadata": {},
   "outputs": [
    {
     "name": "stdout",
     "output_type": "stream",
     "text": [
      "Precision: 1.00\n",
      "Recall: 1.00\n",
      "F1-Score: 1.00\n"
     ]
    }
   ],
   "source": [
    "# Import necessary libraries\n",
    "from sklearn.datasets import load_iris\n",
    "from sklearn.model_selection import train_test_split\n",
    "from sklearn.tree import DecisionTreeClassifier\n",
    "from sklearn.metrics import precision_score, recall_score, f1_score\n",
    "\n",
    "# Load the Iris dataset\n",
    "iris = load_iris()\n",
    "X, y = iris.data, iris.target\n",
    "\n",
    "# Split dataset into training and testing sets (80% training, 20% testing)\n",
    "X_train, X_test, y_train, y_test = train_test_split(X, y, test_size=0.2, random_state=42)\n",
    "\n",
    "# Train a Decision Tree Classifier\n",
    "model = DecisionTreeClassifier(random_state=42)\n",
    "model.fit(X_train, y_train)\n",
    "\n",
    "# Make predictions on the test set\n",
    "y_pred = model.predict(X_test)\n",
    "\n",
    "# Calculate Precision, Recall, and F1-Score\n",
    "precision = precision_score(y_test, y_pred, average='macro')\n",
    "recall = recall_score(y_test, y_pred, average='macro')\n",
    "f1 = f1_score(y_test, y_pred, average='macro')\n",
    "\n",
    "# Print evaluation metrics\n",
    "print(f\"Precision: {precision:.2f}\")\n",
    "print(f\"Recall: {recall:.2f}\")\n",
    "print(f\"F1-Score: {f1:.2f}\")\n"
   ]
  },
  {
   "cell_type": "markdown",
   "id": "334d8d65-17e5-456e-9d2b-9976e845624c",
   "metadata": {},
   "source": [
    "QUESTION 29. Write a Python program to train a Decision Tree Classifier and visualize the confusion matrix using seaborn."
   ]
  },
  {
   "cell_type": "code",
   "execution_count": 135,
   "id": "8d05ba47-7503-4d64-aa59-29a1621d138c",
   "metadata": {},
   "outputs": [
    {
     "data": {
      "image/png": "[encoded data removed]",
      "text/plain": [
       "<Figure size 600x500 with 2 Axes>"
      ]
     },
     "metadata": {},
     "output_type": "display_data"
    }
   ],
   "source": [
    "# Import necessary libraries\n",
    "import numpy as np\n",
    "import matplotlib.pyplot as plt\n",
    "import seaborn as sns\n",
    "from sklearn.datasets import load_iris\n",
    "from sklearn.model_selection import train_test_split\n",
    "from sklearn.tree import DecisionTreeClassifier\n",
    "from sklearn.metrics import confusion_matrix\n",
    "\n",
    "# Load the Iris dataset\n",
    "iris = load_iris()\n",
    "X, y = iris.data, iris.target\n",
    "\n",
    "# Split dataset into training and testing sets (80% training, 20% testing)\n",
    "X_train, X_test, y_train, y_test = train_test_split(X, y, test_size=0.2, random_state=42)\n",
    "\n",
    "# Train the Decision Tree Classifier\n",
    "model = DecisionTreeClassifier(random_state=42)\n",
    "model.fit(X_train, y_train)\n",
    "\n",
    "# Make predictions on the test set\n",
    "y_pred = model.predict(X_test)\n",
    "\n",
    "# Compute the confusion matrix\n",
    "cm = confusion_matrix(y_test, y_pred)\n",
    "\n",
    "# Visualize confusion matrix using seaborn\n",
    "plt.figure(figsize=(6, 5))\n",
    "sns.heatmap(cm, annot=True, fmt=\"d\", cmap=\"Blues\", xticklabels=iris.target_names, yticklabels=iris.target_names)\n",
    "plt.xlabel(\"Predicted Label\")\n",
    "plt.ylabel(\"True Label\")\n",
    "plt.title(\"Confusion Matrix - Decision Tree Classifier\")\n",
    "plt.show()\n"
   ]
  },
  {
   "cell_type": "markdown",
   "id": "5c99dd01-8800-4085-9e2c-00c00feba825",
   "metadata": {},
   "source": [
    "QUESTION 30.  Write a Python program to train a Decision Tree Classifier and use GridSearchCV to find the optimal values \n",
    "for max_depth and min_samples_split."
   ]
  },
  {
   "cell_type": "code",
   "execution_count": 138,
   "id": "1b29838a-7d12-4d49-ad43-a7038ff09f98",
   "metadata": {},
   "outputs": [
    {
     "name": "stdout",
     "output_type": "stream",
     "text": [
      "Best parameters: {'max_depth': 10, 'min_samples_split': 2}\n",
      "Model Accuracy with optimized hyperparameters: 1.00\n"
     ]
    }
   ],
   "source": [
    "# Import necessary libraries\n",
    "from sklearn.datasets import load_iris\n",
    "from sklearn.model_selection import train_test_split, GridSearchCV\n",
    "from sklearn.tree import DecisionTreeClassifier\n",
    "from sklearn.metrics import accuracy_score\n",
    "\n",
    "# Load the Iris dataset\n",
    "iris = load_iris()\n",
    "X, y = iris.data, iris.target\n",
    "\n",
    "# Split dataset into training and testing sets (80% training, 20% testing)\n",
    "X_train, X_test, y_train, y_test = train_test_split(X, y, test_size=0.2, random_state=42)\n",
    "\n",
    "# Define the Decision Tree Classifier\n",
    "model = DecisionTreeClassifier(random_state=42)\n",
    "\n",
    "# Define parameter grid for GridSearchCV\n",
    "param_grid = {\n",
    "    \"max_depth\": [3, 5, 10, None],  # Vary tree depth\n",
    "    \"min_samples_split\": [2, 5, 10]  # Minimum samples required for a split\n",
    "}\n",
    "\n",
    "# Use GridSearchCV to find the optimal hyperparameters\n",
    "grid_search = GridSearchCV(model, param_grid, cv=5, scoring=\"accuracy\")\n",
    "grid_search.fit(X_train, y_train)\n",
    "\n",
    "# Get the best parameters\n",
    "best_params = grid_search.best_params_\n",
    "print(f\"Best parameters: {best_params}\")\n",
    "\n",
    "# Train Decision Tree Classifier with optimal parameters\n",
    "best_model = DecisionTreeClassifier(**best_params, random_state=42)\n",
    "best_model.fit(X_train, y_train)\n",
    "\n",
    "# Evaluate performance on test set\n",
    "y_pred = best_model.predict(X_test)\n",
    "accuracy = accuracy_score(y_test, y_pred)\n",
    "\n",
    "print(f\"Model Accuracy with optimized hyperparameters: {accuracy:.2f}\")\n"
   ]
  },
  {
   "cell_type": "code",
   "execution_count": null,
   "id": "75a0bb5c-5d3d-4243-b8e1-e0d804fb640f",
   "metadata": {},
   "outputs": [],
   "source": []
  }
 ],
 "metadata": {
  "kernelspec": {
   "display_name": "Python 3 (ipykernel)",
   "language": "python",
   "name": "python3"
  },
  "language_info": {
   "codemirror_mode": {
    "name": "ipython",
    "version": 3
   },
   "file_extension": ".py",
   "mimetype": "text/x-python",
   "name": "python",
   "nbconvert_exporter": "python",
   "pygments_lexer": "ipython3",
   "version": "3.12.4"
  }
 },
 "nbformat": 4,
 "nbformat_minor": 5
}
